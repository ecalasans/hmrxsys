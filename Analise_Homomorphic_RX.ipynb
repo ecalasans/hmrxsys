{
 "cells": [
  {
   "cell_type": "markdown",
   "metadata": {
    "id": "Gk65AylFQ6oa"
   },
   "source": [
    "# **Implementação da Deep Learning para o TCC**"
   ]
  },
  {
   "cell_type": "markdown",
   "metadata": {
    "id": "SBm_gE2NRN7q"
   },
   "source": [
    "## 1.  Configurações iniciais"
   ]
  },
  {
   "cell_type": "markdown",
   "metadata": {
    "id": "EtFXa_8aRZ0w"
   },
   "source": [
    "Montagem do drive"
   ]
  },
  {
   "cell_type": "code",
   "execution_count": 1,
   "metadata": {
    "colab": {
     "base_uri": "https://localhost:8080/"
    },
    "id": "YklBi21WRXWy",
    "outputId": "7273c519-54a0-426f-8b20-29d2c62d71a9"
   },
   "outputs": [
    {
     "name": "stdout",
     "output_type": "stream",
     "text": [
      "Mounted at /content/gdrive\n"
     ]
    }
   ],
   "source": [
    "from google.colab import drive\n",
    "drive.mount('/content/gdrive', force_remount=True)"
   ]
  },
  {
   "cell_type": "markdown",
   "metadata": {
    "id": "jsDoLkHtRx8A"
   },
   "source": [
    "Importação de módulos "
   ]
  },
  {
   "cell_type": "code",
   "execution_count": 2,
   "metadata": {
    "id": "m7r3Dx9GR3hx"
   },
   "outputs": [],
   "source": [
    "import numpy as np\n",
    "import pandas as pd\n",
    "import matplotlib.pyplot as plt\n",
    "\n",
    "%matplotlib inline"
   ]
  },
  {
   "cell_type": "markdown",
   "metadata": {
    "id": "KbXq8HuFUXzJ"
   },
   "source": [
    "## 2.  Leitura dos dados"
   ]
  },
  {
   "cell_type": "code",
   "execution_count": 3,
   "metadata": {
    "id": "Y5ULdFZfXZQW"
   },
   "outputs": [],
   "source": [
    "analise = pd.read_csv('/content/gdrive/MyDrive/TCC/analise.csv')"
   ]
  },
  {
   "cell_type": "code",
   "execution_count": 4,
   "metadata": {
    "colab": {
     "base_uri": "https://localhost:8080/"
    },
    "id": "TAm3FXtOXzVZ",
    "outputId": "dc1158db-b941-417c-a129-945b348de2af"
   },
   "outputs": [
    {
     "data": {
      "text/plain": [
       "(159, 262)"
      ]
     },
     "execution_count": 4,
     "metadata": {
      "tags": []
     },
     "output_type": "execute_result"
    }
   ],
   "source": [
    "analise.shape"
   ]
  },
  {
   "cell_type": "code",
   "execution_count": 5,
   "metadata": {
    "id": "FHs0-qreYvj9"
   },
   "outputs": [],
   "source": [
    "analise = analise.drop(['Unnamed: 0'], axis=1)"
   ]
  },
  {
   "cell_type": "code",
   "execution_count": 6,
   "metadata": {
    "colab": {
     "base_uri": "https://localhost:8080/",
     "height": 609
    },
    "id": "ie9oyJoNyOoo",
    "outputId": "3ff6f69f-1cfc-4222-bb90-6c100ad730fa"
   },
   "outputs": [
    {
     "data": {
      "text/html": [
       "<div>\n",
       "<style scoped>\n",
       "    .dataframe tbody tr th:only-of-type {\n",
       "        vertical-align: middle;\n",
       "    }\n",
       "\n",
       "    .dataframe tbody tr th {\n",
       "        vertical-align: top;\n",
       "    }\n",
       "\n",
       "    .dataframe thead th {\n",
       "        text-align: right;\n",
       "    }\n",
       "</style>\n",
       "<table border=\"1\" class=\"dataframe\">\n",
       "  <thead>\n",
       "    <tr style=\"text-align: right;\">\n",
       "      <th></th>\n",
       "      <th>0</th>\n",
       "      <th>1</th>\n",
       "      <th>2</th>\n",
       "      <th>3</th>\n",
       "      <th>4</th>\n",
       "      <th>5</th>\n",
       "      <th>6</th>\n",
       "      <th>7</th>\n",
       "      <th>8</th>\n",
       "      <th>9</th>\n",
       "      <th>10</th>\n",
       "      <th>11</th>\n",
       "      <th>12</th>\n",
       "      <th>13</th>\n",
       "      <th>14</th>\n",
       "      <th>15</th>\n",
       "      <th>16</th>\n",
       "      <th>17</th>\n",
       "      <th>18</th>\n",
       "      <th>19</th>\n",
       "      <th>20</th>\n",
       "      <th>21</th>\n",
       "      <th>22</th>\n",
       "      <th>23</th>\n",
       "      <th>24</th>\n",
       "      <th>25</th>\n",
       "      <th>26</th>\n",
       "      <th>27</th>\n",
       "      <th>28</th>\n",
       "      <th>29</th>\n",
       "      <th>30</th>\n",
       "      <th>31</th>\n",
       "      <th>32</th>\n",
       "      <th>33</th>\n",
       "      <th>34</th>\n",
       "      <th>35</th>\n",
       "      <th>36</th>\n",
       "      <th>37</th>\n",
       "      <th>38</th>\n",
       "      <th>39</th>\n",
       "      <th>...</th>\n",
       "      <th>221</th>\n",
       "      <th>222</th>\n",
       "      <th>223</th>\n",
       "      <th>224</th>\n",
       "      <th>225</th>\n",
       "      <th>226</th>\n",
       "      <th>227</th>\n",
       "      <th>228</th>\n",
       "      <th>229</th>\n",
       "      <th>230</th>\n",
       "      <th>231</th>\n",
       "      <th>232</th>\n",
       "      <th>233</th>\n",
       "      <th>234</th>\n",
       "      <th>235</th>\n",
       "      <th>236</th>\n",
       "      <th>237</th>\n",
       "      <th>238</th>\n",
       "      <th>239</th>\n",
       "      <th>240</th>\n",
       "      <th>241</th>\n",
       "      <th>242</th>\n",
       "      <th>243</th>\n",
       "      <th>244</th>\n",
       "      <th>245</th>\n",
       "      <th>246</th>\n",
       "      <th>247</th>\n",
       "      <th>248</th>\n",
       "      <th>249</th>\n",
       "      <th>250</th>\n",
       "      <th>251</th>\n",
       "      <th>252</th>\n",
       "      <th>253</th>\n",
       "      <th>254</th>\n",
       "      <th>255</th>\n",
       "      <th>gamma_l</th>\n",
       "      <th>gamma_h</th>\n",
       "      <th>c</th>\n",
       "      <th>d0</th>\n",
       "      <th>arquivo</th>\n",
       "    </tr>\n",
       "  </thead>\n",
       "  <tbody>\n",
       "    <tr>\n",
       "      <th>0</th>\n",
       "      <td>1.0</td>\n",
       "      <td>0.05</td>\n",
       "      <td>0.45</td>\n",
       "      <td>0.27</td>\n",
       "      <td>0.06</td>\n",
       "      <td>0.07</td>\n",
       "      <td>0.08</td>\n",
       "      <td>0.10</td>\n",
       "      <td>0.09</td>\n",
       "      <td>0.08</td>\n",
       "      <td>0.08</td>\n",
       "      <td>0.07</td>\n",
       "      <td>0.06</td>\n",
       "      <td>0.07</td>\n",
       "      <td>0.08</td>\n",
       "      <td>0.08</td>\n",
       "      <td>0.08</td>\n",
       "      <td>0.07</td>\n",
       "      <td>0.06</td>\n",
       "      <td>0.06</td>\n",
       "      <td>0.07</td>\n",
       "      <td>0.07</td>\n",
       "      <td>0.07</td>\n",
       "      <td>0.06</td>\n",
       "      <td>0.06</td>\n",
       "      <td>0.05</td>\n",
       "      <td>0.06</td>\n",
       "      <td>0.06</td>\n",
       "      <td>0.07</td>\n",
       "      <td>0.06</td>\n",
       "      <td>0.06</td>\n",
       "      <td>0.06</td>\n",
       "      <td>0.07</td>\n",
       "      <td>0.08</td>\n",
       "      <td>0.09</td>\n",
       "      <td>0.09</td>\n",
       "      <td>0.11</td>\n",
       "      <td>0.10</td>\n",
       "      <td>0.10</td>\n",
       "      <td>0.09</td>\n",
       "      <td>...</td>\n",
       "      <td>0.00</td>\n",
       "      <td>0.00</td>\n",
       "      <td>0.00</td>\n",
       "      <td>0.00</td>\n",
       "      <td>0.00</td>\n",
       "      <td>0.00</td>\n",
       "      <td>0.00</td>\n",
       "      <td>0.00</td>\n",
       "      <td>0.00</td>\n",
       "      <td>0.00</td>\n",
       "      <td>0.00</td>\n",
       "      <td>0.00</td>\n",
       "      <td>0.00</td>\n",
       "      <td>0.00</td>\n",
       "      <td>0.00</td>\n",
       "      <td>0.00</td>\n",
       "      <td>0.00</td>\n",
       "      <td>0.00</td>\n",
       "      <td>0.00</td>\n",
       "      <td>0.00</td>\n",
       "      <td>0.00</td>\n",
       "      <td>0.00</td>\n",
       "      <td>0.00</td>\n",
       "      <td>0.00</td>\n",
       "      <td>0.00</td>\n",
       "      <td>0.00</td>\n",
       "      <td>0.00</td>\n",
       "      <td>0.00</td>\n",
       "      <td>0.00</td>\n",
       "      <td>0.00</td>\n",
       "      <td>0.00</td>\n",
       "      <td>0.00</td>\n",
       "      <td>0.00</td>\n",
       "      <td>0.00</td>\n",
       "      <td>0.0</td>\n",
       "      <td>0.13</td>\n",
       "      <td>1.8</td>\n",
       "      <td>1.8</td>\n",
       "      <td>317</td>\n",
       "      <td>rx - 121.png</td>\n",
       "    </tr>\n",
       "    <tr>\n",
       "      <th>1</th>\n",
       "      <td>0.0</td>\n",
       "      <td>0.00</td>\n",
       "      <td>0.00</td>\n",
       "      <td>0.00</td>\n",
       "      <td>0.00</td>\n",
       "      <td>0.00</td>\n",
       "      <td>0.23</td>\n",
       "      <td>0.43</td>\n",
       "      <td>0.62</td>\n",
       "      <td>1.00</td>\n",
       "      <td>0.65</td>\n",
       "      <td>0.18</td>\n",
       "      <td>0.07</td>\n",
       "      <td>0.08</td>\n",
       "      <td>0.07</td>\n",
       "      <td>0.08</td>\n",
       "      <td>0.07</td>\n",
       "      <td>0.08</td>\n",
       "      <td>0.07</td>\n",
       "      <td>0.08</td>\n",
       "      <td>0.08</td>\n",
       "      <td>0.10</td>\n",
       "      <td>0.10</td>\n",
       "      <td>0.09</td>\n",
       "      <td>0.08</td>\n",
       "      <td>0.10</td>\n",
       "      <td>0.09</td>\n",
       "      <td>0.10</td>\n",
       "      <td>0.09</td>\n",
       "      <td>0.10</td>\n",
       "      <td>0.10</td>\n",
       "      <td>0.11</td>\n",
       "      <td>0.12</td>\n",
       "      <td>0.14</td>\n",
       "      <td>0.13</td>\n",
       "      <td>0.13</td>\n",
       "      <td>0.13</td>\n",
       "      <td>0.14</td>\n",
       "      <td>0.13</td>\n",
       "      <td>0.14</td>\n",
       "      <td>...</td>\n",
       "      <td>0.00</td>\n",
       "      <td>0.00</td>\n",
       "      <td>0.00</td>\n",
       "      <td>0.00</td>\n",
       "      <td>0.00</td>\n",
       "      <td>0.00</td>\n",
       "      <td>0.00</td>\n",
       "      <td>0.00</td>\n",
       "      <td>0.00</td>\n",
       "      <td>0.00</td>\n",
       "      <td>0.00</td>\n",
       "      <td>0.00</td>\n",
       "      <td>0.00</td>\n",
       "      <td>0.00</td>\n",
       "      <td>0.00</td>\n",
       "      <td>0.00</td>\n",
       "      <td>0.00</td>\n",
       "      <td>0.00</td>\n",
       "      <td>0.00</td>\n",
       "      <td>0.00</td>\n",
       "      <td>0.00</td>\n",
       "      <td>0.00</td>\n",
       "      <td>0.00</td>\n",
       "      <td>0.00</td>\n",
       "      <td>0.00</td>\n",
       "      <td>0.00</td>\n",
       "      <td>0.00</td>\n",
       "      <td>0.00</td>\n",
       "      <td>0.00</td>\n",
       "      <td>0.00</td>\n",
       "      <td>0.00</td>\n",
       "      <td>0.00</td>\n",
       "      <td>0.00</td>\n",
       "      <td>0.00</td>\n",
       "      <td>0.0</td>\n",
       "      <td>0.26</td>\n",
       "      <td>2.8</td>\n",
       "      <td>2.0</td>\n",
       "      <td>379</td>\n",
       "      <td>rx - 122.png</td>\n",
       "    </tr>\n",
       "    <tr>\n",
       "      <th>2</th>\n",
       "      <td>0.0</td>\n",
       "      <td>0.00</td>\n",
       "      <td>0.00</td>\n",
       "      <td>0.00</td>\n",
       "      <td>0.00</td>\n",
       "      <td>0.00</td>\n",
       "      <td>0.00</td>\n",
       "      <td>0.00</td>\n",
       "      <td>0.00</td>\n",
       "      <td>0.06</td>\n",
       "      <td>0.22</td>\n",
       "      <td>0.31</td>\n",
       "      <td>0.40</td>\n",
       "      <td>0.47</td>\n",
       "      <td>0.40</td>\n",
       "      <td>0.30</td>\n",
       "      <td>0.21</td>\n",
       "      <td>0.18</td>\n",
       "      <td>0.23</td>\n",
       "      <td>0.21</td>\n",
       "      <td>0.16</td>\n",
       "      <td>0.11</td>\n",
       "      <td>0.12</td>\n",
       "      <td>0.12</td>\n",
       "      <td>0.12</td>\n",
       "      <td>0.12</td>\n",
       "      <td>0.11</td>\n",
       "      <td>0.10</td>\n",
       "      <td>0.10</td>\n",
       "      <td>0.09</td>\n",
       "      <td>0.09</td>\n",
       "      <td>0.11</td>\n",
       "      <td>0.12</td>\n",
       "      <td>0.10</td>\n",
       "      <td>0.09</td>\n",
       "      <td>0.10</td>\n",
       "      <td>0.09</td>\n",
       "      <td>0.10</td>\n",
       "      <td>0.10</td>\n",
       "      <td>0.11</td>\n",
       "      <td>...</td>\n",
       "      <td>0.00</td>\n",
       "      <td>0.00</td>\n",
       "      <td>0.00</td>\n",
       "      <td>0.00</td>\n",
       "      <td>0.00</td>\n",
       "      <td>0.00</td>\n",
       "      <td>0.00</td>\n",
       "      <td>0.00</td>\n",
       "      <td>0.00</td>\n",
       "      <td>0.00</td>\n",
       "      <td>0.00</td>\n",
       "      <td>0.00</td>\n",
       "      <td>0.00</td>\n",
       "      <td>0.00</td>\n",
       "      <td>0.00</td>\n",
       "      <td>0.00</td>\n",
       "      <td>0.00</td>\n",
       "      <td>0.00</td>\n",
       "      <td>0.00</td>\n",
       "      <td>0.00</td>\n",
       "      <td>0.00</td>\n",
       "      <td>0.00</td>\n",
       "      <td>0.00</td>\n",
       "      <td>0.00</td>\n",
       "      <td>0.00</td>\n",
       "      <td>0.00</td>\n",
       "      <td>0.00</td>\n",
       "      <td>0.00</td>\n",
       "      <td>0.00</td>\n",
       "      <td>0.00</td>\n",
       "      <td>0.00</td>\n",
       "      <td>0.00</td>\n",
       "      <td>0.00</td>\n",
       "      <td>0.00</td>\n",
       "      <td>0.0</td>\n",
       "      <td>0.07</td>\n",
       "      <td>2.6</td>\n",
       "      <td>1.0</td>\n",
       "      <td>509</td>\n",
       "      <td>rx - 123.png</td>\n",
       "    </tr>\n",
       "    <tr>\n",
       "      <th>3</th>\n",
       "      <td>0.0</td>\n",
       "      <td>0.00</td>\n",
       "      <td>0.00</td>\n",
       "      <td>0.00</td>\n",
       "      <td>0.00</td>\n",
       "      <td>0.00</td>\n",
       "      <td>0.00</td>\n",
       "      <td>0.00</td>\n",
       "      <td>0.00</td>\n",
       "      <td>0.00</td>\n",
       "      <td>0.00</td>\n",
       "      <td>0.00</td>\n",
       "      <td>0.00</td>\n",
       "      <td>0.00</td>\n",
       "      <td>0.00</td>\n",
       "      <td>0.00</td>\n",
       "      <td>0.00</td>\n",
       "      <td>0.00</td>\n",
       "      <td>0.00</td>\n",
       "      <td>0.00</td>\n",
       "      <td>0.00</td>\n",
       "      <td>0.07</td>\n",
       "      <td>0.42</td>\n",
       "      <td>0.24</td>\n",
       "      <td>0.25</td>\n",
       "      <td>0.32</td>\n",
       "      <td>0.31</td>\n",
       "      <td>0.30</td>\n",
       "      <td>0.23</td>\n",
       "      <td>0.19</td>\n",
       "      <td>0.27</td>\n",
       "      <td>0.29</td>\n",
       "      <td>0.21</td>\n",
       "      <td>0.10</td>\n",
       "      <td>0.10</td>\n",
       "      <td>0.10</td>\n",
       "      <td>0.09</td>\n",
       "      <td>0.08</td>\n",
       "      <td>0.08</td>\n",
       "      <td>0.09</td>\n",
       "      <td>...</td>\n",
       "      <td>0.00</td>\n",
       "      <td>0.00</td>\n",
       "      <td>0.00</td>\n",
       "      <td>0.00</td>\n",
       "      <td>0.00</td>\n",
       "      <td>0.00</td>\n",
       "      <td>0.00</td>\n",
       "      <td>0.00</td>\n",
       "      <td>0.00</td>\n",
       "      <td>0.00</td>\n",
       "      <td>0.00</td>\n",
       "      <td>0.00</td>\n",
       "      <td>0.00</td>\n",
       "      <td>0.00</td>\n",
       "      <td>0.00</td>\n",
       "      <td>0.00</td>\n",
       "      <td>0.00</td>\n",
       "      <td>0.00</td>\n",
       "      <td>0.00</td>\n",
       "      <td>0.00</td>\n",
       "      <td>0.00</td>\n",
       "      <td>0.00</td>\n",
       "      <td>0.00</td>\n",
       "      <td>0.00</td>\n",
       "      <td>0.00</td>\n",
       "      <td>0.00</td>\n",
       "      <td>0.00</td>\n",
       "      <td>0.00</td>\n",
       "      <td>0.00</td>\n",
       "      <td>0.00</td>\n",
       "      <td>0.00</td>\n",
       "      <td>0.00</td>\n",
       "      <td>0.00</td>\n",
       "      <td>0.00</td>\n",
       "      <td>0.0</td>\n",
       "      <td>0.14</td>\n",
       "      <td>2.5</td>\n",
       "      <td>1.1</td>\n",
       "      <td>523</td>\n",
       "      <td>rx - 125.png</td>\n",
       "    </tr>\n",
       "    <tr>\n",
       "      <th>4</th>\n",
       "      <td>0.0</td>\n",
       "      <td>0.00</td>\n",
       "      <td>0.00</td>\n",
       "      <td>0.00</td>\n",
       "      <td>0.00</td>\n",
       "      <td>0.00</td>\n",
       "      <td>0.00</td>\n",
       "      <td>0.00</td>\n",
       "      <td>0.00</td>\n",
       "      <td>0.00</td>\n",
       "      <td>0.00</td>\n",
       "      <td>0.00</td>\n",
       "      <td>0.00</td>\n",
       "      <td>0.00</td>\n",
       "      <td>0.00</td>\n",
       "      <td>0.00</td>\n",
       "      <td>0.00</td>\n",
       "      <td>0.00</td>\n",
       "      <td>0.00</td>\n",
       "      <td>0.00</td>\n",
       "      <td>0.00</td>\n",
       "      <td>0.07</td>\n",
       "      <td>0.42</td>\n",
       "      <td>0.24</td>\n",
       "      <td>0.25</td>\n",
       "      <td>0.32</td>\n",
       "      <td>0.31</td>\n",
       "      <td>0.30</td>\n",
       "      <td>0.23</td>\n",
       "      <td>0.19</td>\n",
       "      <td>0.27</td>\n",
       "      <td>0.29</td>\n",
       "      <td>0.21</td>\n",
       "      <td>0.10</td>\n",
       "      <td>0.10</td>\n",
       "      <td>0.10</td>\n",
       "      <td>0.09</td>\n",
       "      <td>0.08</td>\n",
       "      <td>0.08</td>\n",
       "      <td>0.09</td>\n",
       "      <td>...</td>\n",
       "      <td>0.00</td>\n",
       "      <td>0.00</td>\n",
       "      <td>0.00</td>\n",
       "      <td>0.00</td>\n",
       "      <td>0.00</td>\n",
       "      <td>0.00</td>\n",
       "      <td>0.00</td>\n",
       "      <td>0.00</td>\n",
       "      <td>0.00</td>\n",
       "      <td>0.00</td>\n",
       "      <td>0.00</td>\n",
       "      <td>0.00</td>\n",
       "      <td>0.00</td>\n",
       "      <td>0.00</td>\n",
       "      <td>0.00</td>\n",
       "      <td>0.00</td>\n",
       "      <td>0.00</td>\n",
       "      <td>0.00</td>\n",
       "      <td>0.00</td>\n",
       "      <td>0.00</td>\n",
       "      <td>0.00</td>\n",
       "      <td>0.00</td>\n",
       "      <td>0.00</td>\n",
       "      <td>0.00</td>\n",
       "      <td>0.00</td>\n",
       "      <td>0.00</td>\n",
       "      <td>0.00</td>\n",
       "      <td>0.00</td>\n",
       "      <td>0.00</td>\n",
       "      <td>0.00</td>\n",
       "      <td>0.00</td>\n",
       "      <td>0.00</td>\n",
       "      <td>0.00</td>\n",
       "      <td>0.00</td>\n",
       "      <td>0.0</td>\n",
       "      <td>0.14</td>\n",
       "      <td>2.5</td>\n",
       "      <td>1.1</td>\n",
       "      <td>523</td>\n",
       "      <td>rx - 125.png</td>\n",
       "    </tr>\n",
       "    <tr>\n",
       "      <th>...</th>\n",
       "      <td>...</td>\n",
       "      <td>...</td>\n",
       "      <td>...</td>\n",
       "      <td>...</td>\n",
       "      <td>...</td>\n",
       "      <td>...</td>\n",
       "      <td>...</td>\n",
       "      <td>...</td>\n",
       "      <td>...</td>\n",
       "      <td>...</td>\n",
       "      <td>...</td>\n",
       "      <td>...</td>\n",
       "      <td>...</td>\n",
       "      <td>...</td>\n",
       "      <td>...</td>\n",
       "      <td>...</td>\n",
       "      <td>...</td>\n",
       "      <td>...</td>\n",
       "      <td>...</td>\n",
       "      <td>...</td>\n",
       "      <td>...</td>\n",
       "      <td>...</td>\n",
       "      <td>...</td>\n",
       "      <td>...</td>\n",
       "      <td>...</td>\n",
       "      <td>...</td>\n",
       "      <td>...</td>\n",
       "      <td>...</td>\n",
       "      <td>...</td>\n",
       "      <td>...</td>\n",
       "      <td>...</td>\n",
       "      <td>...</td>\n",
       "      <td>...</td>\n",
       "      <td>...</td>\n",
       "      <td>...</td>\n",
       "      <td>...</td>\n",
       "      <td>...</td>\n",
       "      <td>...</td>\n",
       "      <td>...</td>\n",
       "      <td>...</td>\n",
       "      <td>...</td>\n",
       "      <td>...</td>\n",
       "      <td>...</td>\n",
       "      <td>...</td>\n",
       "      <td>...</td>\n",
       "      <td>...</td>\n",
       "      <td>...</td>\n",
       "      <td>...</td>\n",
       "      <td>...</td>\n",
       "      <td>...</td>\n",
       "      <td>...</td>\n",
       "      <td>...</td>\n",
       "      <td>...</td>\n",
       "      <td>...</td>\n",
       "      <td>...</td>\n",
       "      <td>...</td>\n",
       "      <td>...</td>\n",
       "      <td>...</td>\n",
       "      <td>...</td>\n",
       "      <td>...</td>\n",
       "      <td>...</td>\n",
       "      <td>...</td>\n",
       "      <td>...</td>\n",
       "      <td>...</td>\n",
       "      <td>...</td>\n",
       "      <td>...</td>\n",
       "      <td>...</td>\n",
       "      <td>...</td>\n",
       "      <td>...</td>\n",
       "      <td>...</td>\n",
       "      <td>...</td>\n",
       "      <td>...</td>\n",
       "      <td>...</td>\n",
       "      <td>...</td>\n",
       "      <td>...</td>\n",
       "      <td>...</td>\n",
       "      <td>...</td>\n",
       "      <td>...</td>\n",
       "      <td>...</td>\n",
       "      <td>...</td>\n",
       "      <td>...</td>\n",
       "    </tr>\n",
       "    <tr>\n",
       "      <th>154</th>\n",
       "      <td>0.0</td>\n",
       "      <td>0.01</td>\n",
       "      <td>0.03</td>\n",
       "      <td>0.07</td>\n",
       "      <td>0.14</td>\n",
       "      <td>0.17</td>\n",
       "      <td>0.15</td>\n",
       "      <td>0.19</td>\n",
       "      <td>0.22</td>\n",
       "      <td>0.24</td>\n",
       "      <td>0.29</td>\n",
       "      <td>0.27</td>\n",
       "      <td>0.29</td>\n",
       "      <td>0.25</td>\n",
       "      <td>0.23</td>\n",
       "      <td>0.23</td>\n",
       "      <td>0.24</td>\n",
       "      <td>0.25</td>\n",
       "      <td>0.27</td>\n",
       "      <td>0.28</td>\n",
       "      <td>0.31</td>\n",
       "      <td>0.31</td>\n",
       "      <td>0.34</td>\n",
       "      <td>0.32</td>\n",
       "      <td>0.32</td>\n",
       "      <td>0.33</td>\n",
       "      <td>0.32</td>\n",
       "      <td>0.26</td>\n",
       "      <td>0.24</td>\n",
       "      <td>0.19</td>\n",
       "      <td>0.19</td>\n",
       "      <td>0.18</td>\n",
       "      <td>0.18</td>\n",
       "      <td>0.20</td>\n",
       "      <td>0.20</td>\n",
       "      <td>0.20</td>\n",
       "      <td>0.21</td>\n",
       "      <td>0.22</td>\n",
       "      <td>0.23</td>\n",
       "      <td>0.25</td>\n",
       "      <td>...</td>\n",
       "      <td>0.72</td>\n",
       "      <td>0.81</td>\n",
       "      <td>0.91</td>\n",
       "      <td>0.87</td>\n",
       "      <td>0.86</td>\n",
       "      <td>0.84</td>\n",
       "      <td>0.80</td>\n",
       "      <td>0.83</td>\n",
       "      <td>0.83</td>\n",
       "      <td>0.78</td>\n",
       "      <td>0.72</td>\n",
       "      <td>0.67</td>\n",
       "      <td>0.65</td>\n",
       "      <td>0.71</td>\n",
       "      <td>0.74</td>\n",
       "      <td>0.87</td>\n",
       "      <td>0.78</td>\n",
       "      <td>0.77</td>\n",
       "      <td>0.62</td>\n",
       "      <td>0.63</td>\n",
       "      <td>0.58</td>\n",
       "      <td>0.52</td>\n",
       "      <td>0.50</td>\n",
       "      <td>0.44</td>\n",
       "      <td>0.37</td>\n",
       "      <td>0.35</td>\n",
       "      <td>0.37</td>\n",
       "      <td>0.39</td>\n",
       "      <td>0.39</td>\n",
       "      <td>0.37</td>\n",
       "      <td>0.28</td>\n",
       "      <td>0.23</td>\n",
       "      <td>0.12</td>\n",
       "      <td>0.09</td>\n",
       "      <td>0.0</td>\n",
       "      <td>0.01</td>\n",
       "      <td>2.2</td>\n",
       "      <td>0.1</td>\n",
       "      <td>57</td>\n",
       "      <td>rx - 27.png</td>\n",
       "    </tr>\n",
       "    <tr>\n",
       "      <th>155</th>\n",
       "      <td>0.0</td>\n",
       "      <td>0.00</td>\n",
       "      <td>0.00</td>\n",
       "      <td>0.00</td>\n",
       "      <td>0.00</td>\n",
       "      <td>0.00</td>\n",
       "      <td>0.01</td>\n",
       "      <td>0.03</td>\n",
       "      <td>0.13</td>\n",
       "      <td>0.36</td>\n",
       "      <td>0.48</td>\n",
       "      <td>0.35</td>\n",
       "      <td>0.16</td>\n",
       "      <td>0.11</td>\n",
       "      <td>0.08</td>\n",
       "      <td>0.08</td>\n",
       "      <td>0.11</td>\n",
       "      <td>0.11</td>\n",
       "      <td>0.11</td>\n",
       "      <td>0.18</td>\n",
       "      <td>0.27</td>\n",
       "      <td>0.40</td>\n",
       "      <td>0.45</td>\n",
       "      <td>0.40</td>\n",
       "      <td>0.30</td>\n",
       "      <td>0.25</td>\n",
       "      <td>0.20</td>\n",
       "      <td>0.20</td>\n",
       "      <td>0.19</td>\n",
       "      <td>0.17</td>\n",
       "      <td>0.16</td>\n",
       "      <td>0.14</td>\n",
       "      <td>0.15</td>\n",
       "      <td>0.14</td>\n",
       "      <td>0.14</td>\n",
       "      <td>0.13</td>\n",
       "      <td>0.13</td>\n",
       "      <td>0.13</td>\n",
       "      <td>0.12</td>\n",
       "      <td>0.12</td>\n",
       "      <td>...</td>\n",
       "      <td>0.51</td>\n",
       "      <td>0.51</td>\n",
       "      <td>0.53</td>\n",
       "      <td>0.49</td>\n",
       "      <td>0.46</td>\n",
       "      <td>0.44</td>\n",
       "      <td>0.45</td>\n",
       "      <td>0.45</td>\n",
       "      <td>0.48</td>\n",
       "      <td>0.48</td>\n",
       "      <td>0.54</td>\n",
       "      <td>0.49</td>\n",
       "      <td>0.47</td>\n",
       "      <td>0.46</td>\n",
       "      <td>0.47</td>\n",
       "      <td>0.42</td>\n",
       "      <td>0.42</td>\n",
       "      <td>0.44</td>\n",
       "      <td>0.41</td>\n",
       "      <td>0.37</td>\n",
       "      <td>0.36</td>\n",
       "      <td>0.42</td>\n",
       "      <td>0.41</td>\n",
       "      <td>0.35</td>\n",
       "      <td>0.33</td>\n",
       "      <td>0.30</td>\n",
       "      <td>0.35</td>\n",
       "      <td>0.30</td>\n",
       "      <td>0.39</td>\n",
       "      <td>0.23</td>\n",
       "      <td>0.24</td>\n",
       "      <td>0.29</td>\n",
       "      <td>0.42</td>\n",
       "      <td>0.14</td>\n",
       "      <td>0.0</td>\n",
       "      <td>0.01</td>\n",
       "      <td>3.2</td>\n",
       "      <td>0.3</td>\n",
       "      <td>38</td>\n",
       "      <td>rx - 28.png</td>\n",
       "    </tr>\n",
       "    <tr>\n",
       "      <th>156</th>\n",
       "      <td>0.0</td>\n",
       "      <td>0.00</td>\n",
       "      <td>0.00</td>\n",
       "      <td>0.00</td>\n",
       "      <td>0.00</td>\n",
       "      <td>0.00</td>\n",
       "      <td>0.00</td>\n",
       "      <td>0.00</td>\n",
       "      <td>0.01</td>\n",
       "      <td>0.02</td>\n",
       "      <td>0.04</td>\n",
       "      <td>0.12</td>\n",
       "      <td>0.28</td>\n",
       "      <td>0.49</td>\n",
       "      <td>0.78</td>\n",
       "      <td>0.98</td>\n",
       "      <td>1.00</td>\n",
       "      <td>0.94</td>\n",
       "      <td>0.82</td>\n",
       "      <td>0.79</td>\n",
       "      <td>0.74</td>\n",
       "      <td>0.75</td>\n",
       "      <td>0.76</td>\n",
       "      <td>0.80</td>\n",
       "      <td>0.85</td>\n",
       "      <td>0.76</td>\n",
       "      <td>0.65</td>\n",
       "      <td>0.48</td>\n",
       "      <td>0.37</td>\n",
       "      <td>0.31</td>\n",
       "      <td>0.23</td>\n",
       "      <td>0.19</td>\n",
       "      <td>0.15</td>\n",
       "      <td>0.13</td>\n",
       "      <td>0.12</td>\n",
       "      <td>0.12</td>\n",
       "      <td>0.10</td>\n",
       "      <td>0.11</td>\n",
       "      <td>0.11</td>\n",
       "      <td>0.10</td>\n",
       "      <td>...</td>\n",
       "      <td>0.39</td>\n",
       "      <td>0.44</td>\n",
       "      <td>0.48</td>\n",
       "      <td>0.42</td>\n",
       "      <td>0.42</td>\n",
       "      <td>0.41</td>\n",
       "      <td>0.39</td>\n",
       "      <td>0.39</td>\n",
       "      <td>0.38</td>\n",
       "      <td>0.36</td>\n",
       "      <td>0.33</td>\n",
       "      <td>0.34</td>\n",
       "      <td>0.31</td>\n",
       "      <td>0.34</td>\n",
       "      <td>0.34</td>\n",
       "      <td>0.36</td>\n",
       "      <td>0.33</td>\n",
       "      <td>0.27</td>\n",
       "      <td>0.25</td>\n",
       "      <td>0.24</td>\n",
       "      <td>0.23</td>\n",
       "      <td>0.24</td>\n",
       "      <td>0.26</td>\n",
       "      <td>0.26</td>\n",
       "      <td>0.22</td>\n",
       "      <td>0.24</td>\n",
       "      <td>0.23</td>\n",
       "      <td>0.21</td>\n",
       "      <td>0.18</td>\n",
       "      <td>0.15</td>\n",
       "      <td>0.13</td>\n",
       "      <td>0.10</td>\n",
       "      <td>0.03</td>\n",
       "      <td>0.01</td>\n",
       "      <td>0.0</td>\n",
       "      <td>0.01</td>\n",
       "      <td>2.2</td>\n",
       "      <td>0.1</td>\n",
       "      <td>136</td>\n",
       "      <td>rx - 29.png</td>\n",
       "    </tr>\n",
       "    <tr>\n",
       "      <th>157</th>\n",
       "      <td>0.0</td>\n",
       "      <td>0.00</td>\n",
       "      <td>0.00</td>\n",
       "      <td>0.00</td>\n",
       "      <td>0.00</td>\n",
       "      <td>0.00</td>\n",
       "      <td>0.00</td>\n",
       "      <td>0.00</td>\n",
       "      <td>0.00</td>\n",
       "      <td>0.00</td>\n",
       "      <td>0.00</td>\n",
       "      <td>0.01</td>\n",
       "      <td>0.02</td>\n",
       "      <td>0.04</td>\n",
       "      <td>0.11</td>\n",
       "      <td>0.21</td>\n",
       "      <td>0.40</td>\n",
       "      <td>0.64</td>\n",
       "      <td>0.82</td>\n",
       "      <td>0.86</td>\n",
       "      <td>0.71</td>\n",
       "      <td>0.53</td>\n",
       "      <td>0.37</td>\n",
       "      <td>0.28</td>\n",
       "      <td>0.22</td>\n",
       "      <td>0.22</td>\n",
       "      <td>0.17</td>\n",
       "      <td>0.18</td>\n",
       "      <td>0.18</td>\n",
       "      <td>0.18</td>\n",
       "      <td>0.18</td>\n",
       "      <td>0.17</td>\n",
       "      <td>0.15</td>\n",
       "      <td>0.14</td>\n",
       "      <td>0.16</td>\n",
       "      <td>0.13</td>\n",
       "      <td>0.14</td>\n",
       "      <td>0.13</td>\n",
       "      <td>0.12</td>\n",
       "      <td>0.13</td>\n",
       "      <td>...</td>\n",
       "      <td>0.88</td>\n",
       "      <td>0.93</td>\n",
       "      <td>0.98</td>\n",
       "      <td>0.99</td>\n",
       "      <td>0.97</td>\n",
       "      <td>1.00</td>\n",
       "      <td>0.91</td>\n",
       "      <td>0.87</td>\n",
       "      <td>0.78</td>\n",
       "      <td>0.79</td>\n",
       "      <td>0.73</td>\n",
       "      <td>0.71</td>\n",
       "      <td>0.67</td>\n",
       "      <td>0.68</td>\n",
       "      <td>0.65</td>\n",
       "      <td>0.59</td>\n",
       "      <td>0.58</td>\n",
       "      <td>0.51</td>\n",
       "      <td>0.45</td>\n",
       "      <td>0.41</td>\n",
       "      <td>0.38</td>\n",
       "      <td>0.35</td>\n",
       "      <td>0.32</td>\n",
       "      <td>0.29</td>\n",
       "      <td>0.28</td>\n",
       "      <td>0.27</td>\n",
       "      <td>0.27</td>\n",
       "      <td>0.24</td>\n",
       "      <td>0.25</td>\n",
       "      <td>0.22</td>\n",
       "      <td>0.21</td>\n",
       "      <td>0.20</td>\n",
       "      <td>0.19</td>\n",
       "      <td>0.48</td>\n",
       "      <td>0.0</td>\n",
       "      <td>0.01</td>\n",
       "      <td>2.9</td>\n",
       "      <td>0.2</td>\n",
       "      <td>68</td>\n",
       "      <td>rx - 30.png</td>\n",
       "    </tr>\n",
       "    <tr>\n",
       "      <th>158</th>\n",
       "      <td>0.0</td>\n",
       "      <td>0.00</td>\n",
       "      <td>0.00</td>\n",
       "      <td>0.00</td>\n",
       "      <td>0.00</td>\n",
       "      <td>0.00</td>\n",
       "      <td>0.01</td>\n",
       "      <td>0.02</td>\n",
       "      <td>0.04</td>\n",
       "      <td>0.10</td>\n",
       "      <td>0.19</td>\n",
       "      <td>0.30</td>\n",
       "      <td>0.36</td>\n",
       "      <td>0.31</td>\n",
       "      <td>0.24</td>\n",
       "      <td>0.17</td>\n",
       "      <td>0.12</td>\n",
       "      <td>0.11</td>\n",
       "      <td>0.09</td>\n",
       "      <td>0.10</td>\n",
       "      <td>0.07</td>\n",
       "      <td>0.07</td>\n",
       "      <td>0.06</td>\n",
       "      <td>0.07</td>\n",
       "      <td>0.06</td>\n",
       "      <td>0.05</td>\n",
       "      <td>0.06</td>\n",
       "      <td>0.05</td>\n",
       "      <td>0.05</td>\n",
       "      <td>0.06</td>\n",
       "      <td>0.05</td>\n",
       "      <td>0.04</td>\n",
       "      <td>0.06</td>\n",
       "      <td>0.05</td>\n",
       "      <td>0.05</td>\n",
       "      <td>0.06</td>\n",
       "      <td>0.04</td>\n",
       "      <td>0.04</td>\n",
       "      <td>0.04</td>\n",
       "      <td>0.05</td>\n",
       "      <td>...</td>\n",
       "      <td>0.56</td>\n",
       "      <td>0.56</td>\n",
       "      <td>0.58</td>\n",
       "      <td>0.50</td>\n",
       "      <td>0.46</td>\n",
       "      <td>0.47</td>\n",
       "      <td>0.47</td>\n",
       "      <td>0.45</td>\n",
       "      <td>0.44</td>\n",
       "      <td>0.46</td>\n",
       "      <td>0.49</td>\n",
       "      <td>0.46</td>\n",
       "      <td>0.44</td>\n",
       "      <td>0.46</td>\n",
       "      <td>0.45</td>\n",
       "      <td>0.43</td>\n",
       "      <td>0.41</td>\n",
       "      <td>0.37</td>\n",
       "      <td>0.33</td>\n",
       "      <td>0.32</td>\n",
       "      <td>0.31</td>\n",
       "      <td>0.26</td>\n",
       "      <td>0.29</td>\n",
       "      <td>0.27</td>\n",
       "      <td>0.29</td>\n",
       "      <td>0.24</td>\n",
       "      <td>0.18</td>\n",
       "      <td>0.24</td>\n",
       "      <td>0.26</td>\n",
       "      <td>0.34</td>\n",
       "      <td>0.28</td>\n",
       "      <td>0.22</td>\n",
       "      <td>0.46</td>\n",
       "      <td>0.08</td>\n",
       "      <td>0.0</td>\n",
       "      <td>0.01</td>\n",
       "      <td>2.6</td>\n",
       "      <td>0.7</td>\n",
       "      <td>75</td>\n",
       "      <td>rx - 31.png</td>\n",
       "    </tr>\n",
       "  </tbody>\n",
       "</table>\n",
       "<p>159 rows × 261 columns</p>\n",
       "</div>"
      ],
      "text/plain": [
       "       0     1     2     3     4  ...  gamma_l  gamma_h    c   d0       arquivo\n",
       "0    1.0  0.05  0.45  0.27  0.06  ...     0.13      1.8  1.8  317  rx - 121.png\n",
       "1    0.0  0.00  0.00  0.00  0.00  ...     0.26      2.8  2.0  379  rx - 122.png\n",
       "2    0.0  0.00  0.00  0.00  0.00  ...     0.07      2.6  1.0  509  rx - 123.png\n",
       "3    0.0  0.00  0.00  0.00  0.00  ...     0.14      2.5  1.1  523  rx - 125.png\n",
       "4    0.0  0.00  0.00  0.00  0.00  ...     0.14      2.5  1.1  523  rx - 125.png\n",
       "..   ...   ...   ...   ...   ...  ...      ...      ...  ...  ...           ...\n",
       "154  0.0  0.01  0.03  0.07  0.14  ...     0.01      2.2  0.1   57   rx - 27.png\n",
       "155  0.0  0.00  0.00  0.00  0.00  ...     0.01      3.2  0.3   38   rx - 28.png\n",
       "156  0.0  0.00  0.00  0.00  0.00  ...     0.01      2.2  0.1  136   rx - 29.png\n",
       "157  0.0  0.00  0.00  0.00  0.00  ...     0.01      2.9  0.2   68   rx - 30.png\n",
       "158  0.0  0.00  0.00  0.00  0.00  ...     0.01      2.6  0.7   75   rx - 31.png\n",
       "\n",
       "[159 rows x 261 columns]"
      ]
     },
     "execution_count": 6,
     "metadata": {
      "tags": []
     },
     "output_type": "execute_result"
    }
   ],
   "source": [
    "analise"
   ]
  },
  {
   "cell_type": "code",
   "execution_count": 7,
   "metadata": {
    "colab": {
     "base_uri": "https://localhost:8080/"
    },
    "id": "39CgAvePyl-o",
    "outputId": "95dd4e69-a520-49bc-babb-40f77d27e09e"
   },
   "outputs": [
    {
     "data": {
      "text/plain": [
       "(150, 4)"
      ]
     },
     "execution_count": 7,
     "metadata": {
      "tags": []
     },
     "output_type": "execute_result"
    }
   ],
   "source": [
    "histogramas = analise.iloc[0:150, 0:256].values\n",
    "parametros = analise.iloc[0:150, 256:260].values\n",
    "arq_train_test = analise['arquivo'][0:150]\n",
    "histogramas_real = analise.iloc[151:, 0:256].values\n",
    "parametros_real = analise.iloc[151:, 256:260]\n",
    "arq_real = analise['arquivo'][151:]\n",
    "parametros.shape"
   ]
  },
  {
   "cell_type": "code",
   "execution_count": 8,
   "metadata": {
    "colab": {
     "base_uri": "https://localhost:8080/"
    },
    "id": "vTdbVZWiaw7e",
    "outputId": "7237a85d-7201-44bf-eea2-4e0cdda358bf"
   },
   "outputs": [
    {
     "data": {
      "text/plain": [
       "array([[0.  , 0.  , 0.  , ..., 0.26, 0.41, 0.  ],\n",
       "       [0.  , 0.  , 0.  , ..., 0.02, 0.03, 0.  ],\n",
       "       [0.  , 0.  , 0.  , ..., 0.03, 0.04, 0.  ],\n",
       "       ...,\n",
       "       [0.  , 0.  , 0.  , ..., 0.03, 0.01, 0.  ],\n",
       "       [0.  , 0.  , 0.  , ..., 0.19, 0.48, 0.  ],\n",
       "       [0.  , 0.  , 0.  , ..., 0.46, 0.08, 0.  ]])"
      ]
     },
     "execution_count": 8,
     "metadata": {
      "tags": []
     },
     "output_type": "execute_result"
    }
   ],
   "source": [
    "histogramas_real"
   ]
  },
  {
   "cell_type": "code",
   "execution_count": 9,
   "metadata": {
    "colab": {
     "base_uri": "https://localhost:8080/",
     "height": 297
    },
    "id": "sw2xu_2Na15Y",
    "outputId": "97e3a002-490c-4344-bd92-203b81103efd"
   },
   "outputs": [
    {
     "data": {
      "text/html": [
       "<div>\n",
       "<style scoped>\n",
       "    .dataframe tbody tr th:only-of-type {\n",
       "        vertical-align: middle;\n",
       "    }\n",
       "\n",
       "    .dataframe tbody tr th {\n",
       "        vertical-align: top;\n",
       "    }\n",
       "\n",
       "    .dataframe thead th {\n",
       "        text-align: right;\n",
       "    }\n",
       "</style>\n",
       "<table border=\"1\" class=\"dataframe\">\n",
       "  <thead>\n",
       "    <tr style=\"text-align: right;\">\n",
       "      <th></th>\n",
       "      <th>gamma_l</th>\n",
       "      <th>gamma_h</th>\n",
       "      <th>c</th>\n",
       "      <th>d0</th>\n",
       "    </tr>\n",
       "  </thead>\n",
       "  <tbody>\n",
       "    <tr>\n",
       "      <th>151</th>\n",
       "      <td>0.01</td>\n",
       "      <td>2.6</td>\n",
       "      <td>0.2</td>\n",
       "      <td>149</td>\n",
       "    </tr>\n",
       "    <tr>\n",
       "      <th>152</th>\n",
       "      <td>0.02</td>\n",
       "      <td>2.7</td>\n",
       "      <td>0.1</td>\n",
       "      <td>145</td>\n",
       "    </tr>\n",
       "    <tr>\n",
       "      <th>153</th>\n",
       "      <td>0.01</td>\n",
       "      <td>2.9</td>\n",
       "      <td>0.3</td>\n",
       "      <td>68</td>\n",
       "    </tr>\n",
       "    <tr>\n",
       "      <th>154</th>\n",
       "      <td>0.01</td>\n",
       "      <td>2.2</td>\n",
       "      <td>0.1</td>\n",
       "      <td>57</td>\n",
       "    </tr>\n",
       "    <tr>\n",
       "      <th>155</th>\n",
       "      <td>0.01</td>\n",
       "      <td>3.2</td>\n",
       "      <td>0.3</td>\n",
       "      <td>38</td>\n",
       "    </tr>\n",
       "    <tr>\n",
       "      <th>156</th>\n",
       "      <td>0.01</td>\n",
       "      <td>2.2</td>\n",
       "      <td>0.1</td>\n",
       "      <td>136</td>\n",
       "    </tr>\n",
       "    <tr>\n",
       "      <th>157</th>\n",
       "      <td>0.01</td>\n",
       "      <td>2.9</td>\n",
       "      <td>0.2</td>\n",
       "      <td>68</td>\n",
       "    </tr>\n",
       "    <tr>\n",
       "      <th>158</th>\n",
       "      <td>0.01</td>\n",
       "      <td>2.6</td>\n",
       "      <td>0.7</td>\n",
       "      <td>75</td>\n",
       "    </tr>\n",
       "  </tbody>\n",
       "</table>\n",
       "</div>"
      ],
      "text/plain": [
       "     gamma_l  gamma_h    c   d0\n",
       "151     0.01      2.6  0.2  149\n",
       "152     0.02      2.7  0.1  145\n",
       "153     0.01      2.9  0.3   68\n",
       "154     0.01      2.2  0.1   57\n",
       "155     0.01      3.2  0.3   38\n",
       "156     0.01      2.2  0.1  136\n",
       "157     0.01      2.9  0.2   68\n",
       "158     0.01      2.6  0.7   75"
      ]
     },
     "execution_count": 9,
     "metadata": {
      "tags": []
     },
     "output_type": "execute_result"
    }
   ],
   "source": [
    "parametros_real"
   ]
  },
  {
   "cell_type": "code",
   "execution_count": null,
   "metadata": {
    "colab": {
     "base_uri": "https://localhost:8080/"
    },
    "id": "58Ib-lDgJp30",
    "outputId": "23343e74-8755-48d2-a66b-dd5ecfcb7f67"
   },
   "outputs": [
    {
     "data": {
      "text/plain": [
       "151    rx - 23.png\n",
       "152    rx - 24.png\n",
       "153    rx - 26.png\n",
       "154    rx - 27.png\n",
       "155    rx - 28.png\n",
       "156    rx - 29.png\n",
       "157    rx - 30.png\n",
       "158    rx - 31.png\n",
       "Name: arquivo, dtype: object"
      ]
     },
     "execution_count": 10,
     "metadata": {
      "tags": []
     },
     "output_type": "execute_result"
    }
   ],
   "source": [
    "arq_real"
   ]
  },
  {
   "cell_type": "code",
   "execution_count": 10,
   "metadata": {
    "id": "8B7mCDHj088P"
   },
   "outputs": [],
   "source": [
    "gammaL = analise['gamma_l'][0:150].values\n",
    "gammaL_av = analise['gamma_l'][151:].values\n",
    "\n",
    "gammaH = analise['gamma_h'][0:150].values\n",
    "gammaH_av = analise['gamma_h'][151:].values\n",
    "\n",
    "c = analise['c'][0:150].values\n",
    "c_av = analise['c'][151:].values\n",
    "\n",
    "d0 = analise['d0'][0:150].values\n",
    "d0_av = analise['d0'][151:].values"
   ]
  },
  {
   "cell_type": "markdown",
   "metadata": {
    "id": "3CkZinvUrja7"
   },
   "source": [
    "## 3.  Conjunto de Treinamento e de Teste"
   ]
  },
  {
   "cell_type": "markdown",
   "metadata": {
    "id": "1U_k-WUQr0dy"
   },
   "source": [
    "Importação de módulos"
   ]
  },
  {
   "cell_type": "code",
   "execution_count": 12,
   "metadata": {
    "id": "Bcr1a7SDr4Dt"
   },
   "outputs": [],
   "source": [
    "from sklearn.model_selection import train_test_split"
   ]
  },
  {
   "cell_type": "markdown",
   "metadata": {
    "id": "xaRnElS_27q1"
   },
   "source": [
    "Os dados do histograma já estão normalizados então não se faz necessário, a princípio, usar o Scaler do sklearn"
   ]
  },
  {
   "cell_type": "markdown",
   "metadata": {
    "id": "LW5Zh20s-i5Z"
   },
   "source": [
    "## 4.  Importação de módulos"
   ]
  },
  {
   "cell_type": "code",
   "execution_count": 13,
   "metadata": {
    "id": "VvXXv_odCWBb"
   },
   "outputs": [],
   "source": [
    "from tensorflow.keras.models import Sequential\n",
    "from tensorflow.keras.layers import Dense"
   ]
  },
  {
   "cell_type": "markdown",
   "metadata": {
    "id": "OxTo3MawHwoN"
   },
   "source": [
    "## 5. Treinamento da DL"
   ]
  },
  {
   "cell_type": "markdown",
   "metadata": {
    "id": "0pqyMi1bLF8w"
   },
   "source": [
    "#### 5.1.  Treinando com 4 parâmetros de saída"
   ]
  },
  {
   "cell_type": "markdown",
   "metadata": {
    "id": "4sAsMOh0Jxfr"
   },
   "source": [
    "##### 5.1.1. Criação do modelo"
   ]
  },
  {
   "cell_type": "code",
   "execution_count": 14,
   "metadata": {
    "id": "zOKkgh24FCBr"
   },
   "outputs": [],
   "source": [
    "modelo = Sequential()\n",
    "modelo.add(Dense(units=256, activation='relu'))\n",
    "modelo.add(Dense(units=173, activation='relu'))\n",
    "modelo.add(Dense(units=173, activation='relu'))\n",
    "modelo.add(Dense(units=4))\n",
    "\n",
    "modelo.compile(optimizer='adam', loss='mse')"
   ]
  },
  {
   "cell_type": "code",
   "execution_count": 15,
   "metadata": {
    "id": "R_5MwzcesRmw"
   },
   "outputs": [],
   "source": [
    "hist_treino, hist_teste, parametros_treino, parametros_teste = train_test_split(histogramas, parametros, test_size=0.3, random_state=1618)"
   ]
  },
  {
   "cell_type": "code",
   "execution_count": 16,
   "metadata": {
    "colab": {
     "base_uri": "https://localhost:8080/"
    },
    "id": "qTC-drNlGtnS",
    "outputId": "a7d11d0f-4653-40d4-9648-2fcc30f8c430"
   },
   "outputs": [
    {
     "name": "stdout",
     "output_type": "stream",
     "text": [
      "Epoch 1/100\n",
      "4/4 [==============================] - 1s 51ms/step - loss: 21876.7598 - val_loss: 20134.7852\n",
      "Epoch 2/100\n",
      "4/4 [==============================] - 0s 11ms/step - loss: 21413.2266 - val_loss: 19399.1641\n",
      "Epoch 3/100\n",
      "4/4 [==============================] - 0s 10ms/step - loss: 20479.9531 - val_loss: 17957.9531\n",
      "Epoch 4/100\n",
      "4/4 [==============================] - 0s 11ms/step - loss: 18724.6445 - val_loss: 15382.2764\n",
      "Epoch 5/100\n",
      "4/4 [==============================] - 0s 10ms/step - loss: 15618.0527 - val_loss: 11492.1514\n",
      "Epoch 6/100\n",
      "4/4 [==============================] - 0s 9ms/step - loss: 11429.3408 - val_loss: 7183.6592\n",
      "Epoch 7/100\n",
      "4/4 [==============================] - 0s 12ms/step - loss: 7517.1929 - val_loss: 5827.9932\n",
      "Epoch 8/100\n",
      "4/4 [==============================] - 0s 9ms/step - loss: 7285.3965 - val_loss: 7476.9951\n",
      "Epoch 9/100\n",
      "4/4 [==============================] - 0s 10ms/step - loss: 7982.5562 - val_loss: 6254.7100\n",
      "Epoch 10/100\n",
      "4/4 [==============================] - 0s 10ms/step - loss: 6556.0649 - val_loss: 5573.0410\n",
      "Epoch 11/100\n",
      "4/4 [==============================] - 0s 10ms/step - loss: 6063.7642 - val_loss: 5648.2832\n",
      "Epoch 12/100\n",
      "4/4 [==============================] - 0s 10ms/step - loss: 6180.9883 - val_loss: 5729.5850\n",
      "Epoch 13/100\n",
      "4/4 [==============================] - 0s 12ms/step - loss: 6008.5527 - val_loss: 5624.1382\n",
      "Epoch 14/100\n",
      "4/4 [==============================] - 0s 10ms/step - loss: 5667.5254 - val_loss: 5855.9692\n",
      "Epoch 15/100\n",
      "4/4 [==============================] - 0s 11ms/step - loss: 5736.9326 - val_loss: 6165.9287\n",
      "Epoch 16/100\n",
      "4/4 [==============================] - 0s 10ms/step - loss: 5723.6499 - val_loss: 5982.8301\n",
      "Epoch 17/100\n",
      "4/4 [==============================] - 0s 11ms/step - loss: 5552.3589 - val_loss: 6018.3403\n",
      "Epoch 18/100\n",
      "4/4 [==============================] - 0s 11ms/step - loss: 5407.1094 - val_loss: 5888.3169\n",
      "Epoch 19/100\n",
      "4/4 [==============================] - 0s 14ms/step - loss: 5397.4004 - val_loss: 5949.3125\n",
      "Epoch 20/100\n",
      "4/4 [==============================] - 0s 10ms/step - loss: 5363.2905 - val_loss: 6016.3403\n",
      "Epoch 21/100\n",
      "4/4 [==============================] - 0s 10ms/step - loss: 5252.8867 - val_loss: 6150.6182\n",
      "Epoch 22/100\n",
      "4/4 [==============================] - 0s 10ms/step - loss: 5218.7734 - val_loss: 6532.4082\n",
      "Epoch 23/100\n",
      "4/4 [==============================] - 0s 11ms/step - loss: 5276.5117 - val_loss: 6635.3374\n",
      "Epoch 24/100\n",
      "4/4 [==============================] - 0s 10ms/step - loss: 5241.6035 - val_loss: 6425.4224\n",
      "Epoch 25/100\n",
      "4/4 [==============================] - 0s 10ms/step - loss: 5104.1870 - val_loss: 6352.2275\n",
      "Epoch 26/100\n",
      "4/4 [==============================] - 0s 12ms/step - loss: 5108.9512 - val_loss: 6339.4453\n",
      "Epoch 27/100\n",
      "4/4 [==============================] - 0s 10ms/step - loss: 5068.2637 - val_loss: 6423.0527\n",
      "Epoch 28/100\n",
      "4/4 [==============================] - 0s 10ms/step - loss: 5058.8477 - val_loss: 6542.0933\n",
      "Epoch 29/100\n",
      "4/4 [==============================] - 0s 10ms/step - loss: 5011.5957 - val_loss: 6471.5498\n",
      "Epoch 30/100\n",
      "4/4 [==============================] - 0s 10ms/step - loss: 5003.0972 - val_loss: 6373.3208\n",
      "Epoch 31/100\n",
      "4/4 [==============================] - 0s 10ms/step - loss: 4980.6611 - val_loss: 6458.3125\n",
      "Epoch 32/100\n",
      "4/4 [==============================] - 0s 11ms/step - loss: 4908.6592 - val_loss: 6388.2402\n",
      "Epoch 33/100\n",
      "4/4 [==============================] - 0s 11ms/step - loss: 4892.0962 - val_loss: 6394.7085\n",
      "Epoch 34/100\n",
      "4/4 [==============================] - 0s 9ms/step - loss: 4867.3389 - val_loss: 6568.3145\n",
      "Epoch 35/100\n",
      "4/4 [==============================] - 0s 9ms/step - loss: 4820.4268 - val_loss: 6564.5581\n",
      "Epoch 36/100\n",
      "4/4 [==============================] - 0s 11ms/step - loss: 4781.4790 - val_loss: 6456.4556\n",
      "Epoch 37/100\n",
      "4/4 [==============================] - 0s 11ms/step - loss: 4740.7959 - val_loss: 6363.2241\n",
      "Epoch 38/100\n",
      "4/4 [==============================] - 0s 12ms/step - loss: 4735.4800 - val_loss: 6402.9453\n",
      "Epoch 39/100\n",
      "4/4 [==============================] - 0s 9ms/step - loss: 4685.6079 - val_loss: 6500.2271\n",
      "Epoch 40/100\n",
      "4/4 [==============================] - 0s 12ms/step - loss: 4637.7627 - val_loss: 6408.2231\n",
      "Epoch 41/100\n",
      "4/4 [==============================] - 0s 12ms/step - loss: 4638.9858 - val_loss: 6512.4868\n",
      "Epoch 42/100\n",
      "4/4 [==============================] - 0s 11ms/step - loss: 4569.0454 - val_loss: 6585.5234\n",
      "Epoch 43/100\n",
      "4/4 [==============================] - 0s 12ms/step - loss: 4526.7456 - val_loss: 6796.0850\n",
      "Epoch 44/100\n",
      "4/4 [==============================] - 0s 10ms/step - loss: 4503.9976 - val_loss: 6707.7847\n",
      "Epoch 45/100\n",
      "4/4 [==============================] - 0s 10ms/step - loss: 4451.4023 - val_loss: 6569.2075\n",
      "Epoch 46/100\n",
      "4/4 [==============================] - 0s 16ms/step - loss: 4448.8062 - val_loss: 6452.0361\n",
      "Epoch 47/100\n",
      "4/4 [==============================] - 0s 13ms/step - loss: 4382.3462 - val_loss: 6392.9683\n",
      "Epoch 48/100\n",
      "4/4 [==============================] - 0s 12ms/step - loss: 4339.7700 - val_loss: 6360.2944\n",
      "Epoch 49/100\n",
      "4/4 [==============================] - 0s 11ms/step - loss: 4295.0947 - val_loss: 6419.7319\n",
      "Epoch 50/100\n",
      "4/4 [==============================] - 0s 10ms/step - loss: 4320.0332 - val_loss: 6560.9463\n",
      "Epoch 51/100\n",
      "4/4 [==============================] - 0s 12ms/step - loss: 4186.6240 - val_loss: 6343.6235\n",
      "Epoch 52/100\n",
      "4/4 [==============================] - 0s 11ms/step - loss: 4154.9556 - val_loss: 6324.8828\n",
      "Epoch 53/100\n",
      "4/4 [==============================] - 0s 9ms/step - loss: 4119.4434 - val_loss: 6420.1987\n",
      "Epoch 54/100\n",
      "4/4 [==============================] - 0s 10ms/step - loss: 4031.1426 - val_loss: 6950.2363\n",
      "Epoch 55/100\n",
      "4/4 [==============================] - 0s 9ms/step - loss: 4199.3838 - val_loss: 6873.6626\n",
      "Epoch 56/100\n",
      "4/4 [==============================] - 0s 11ms/step - loss: 3974.5652 - val_loss: 6371.8169\n",
      "Epoch 57/100\n",
      "4/4 [==============================] - 0s 13ms/step - loss: 3972.6201 - val_loss: 6214.3169\n",
      "Epoch 58/100\n",
      "4/4 [==============================] - 0s 10ms/step - loss: 3955.1367 - val_loss: 6342.1973\n",
      "Epoch 59/100\n",
      "4/4 [==============================] - 0s 10ms/step - loss: 3841.6145 - val_loss: 6687.8359\n",
      "Epoch 60/100\n",
      "4/4 [==============================] - 0s 10ms/step - loss: 3821.6724 - val_loss: 6667.3130\n",
      "Epoch 61/100\n",
      "4/4 [==============================] - 0s 16ms/step - loss: 3757.2441 - val_loss: 6585.3779\n",
      "Epoch 62/100\n",
      "4/4 [==============================] - 0s 10ms/step - loss: 3721.0884 - val_loss: 6290.5889\n",
      "Epoch 63/100\n",
      "4/4 [==============================] - 0s 9ms/step - loss: 3686.1633 - val_loss: 6462.9443\n",
      "Epoch 64/100\n",
      "4/4 [==============================] - 0s 11ms/step - loss: 3594.0481 - val_loss: 7038.1387\n",
      "Epoch 65/100\n",
      "4/4 [==============================] - 0s 13ms/step - loss: 3583.4814 - val_loss: 6579.4209\n",
      "Epoch 66/100\n",
      "4/4 [==============================] - 0s 14ms/step - loss: 3477.3750 - val_loss: 6325.4902\n",
      "Epoch 67/100\n",
      "4/4 [==============================] - 0s 13ms/step - loss: 3534.3840 - val_loss: 6311.7437\n",
      "Epoch 68/100\n",
      "4/4 [==============================] - 0s 12ms/step - loss: 3383.3855 - val_loss: 6579.2695\n",
      "Epoch 69/100\n",
      "4/4 [==============================] - 0s 12ms/step - loss: 3465.2065 - val_loss: 7222.4775\n",
      "Epoch 70/100\n",
      "4/4 [==============================] - 0s 11ms/step - loss: 3438.9248 - val_loss: 6384.5410\n",
      "Epoch 71/100\n",
      "4/4 [==============================] - 0s 12ms/step - loss: 3202.1729 - val_loss: 6185.5801\n",
      "Epoch 72/100\n",
      "4/4 [==============================] - 0s 11ms/step - loss: 3344.9739 - val_loss: 6103.2402\n",
      "Epoch 73/100\n",
      "4/4 [==============================] - 0s 11ms/step - loss: 3188.8538 - val_loss: 6247.9331\n",
      "Epoch 74/100\n",
      "4/4 [==============================] - 0s 12ms/step - loss: 3077.3633 - val_loss: 6419.5410\n",
      "Epoch 75/100\n",
      "4/4 [==============================] - 0s 10ms/step - loss: 2991.4580 - val_loss: 6282.4575\n",
      "Epoch 76/100\n",
      "4/4 [==============================] - 0s 10ms/step - loss: 2994.6934 - val_loss: 6332.7285\n",
      "Epoch 77/100\n",
      "4/4 [==============================] - 0s 13ms/step - loss: 2941.0042 - val_loss: 6563.8618\n",
      "Epoch 78/100\n",
      "4/4 [==============================] - 0s 16ms/step - loss: 2908.2244 - val_loss: 6564.9229\n",
      "Epoch 79/100\n",
      "4/4 [==============================] - 0s 11ms/step - loss: 2847.8225 - val_loss: 6203.0884\n",
      "Epoch 80/100\n",
      "4/4 [==============================] - 0s 11ms/step - loss: 2810.0725 - val_loss: 6292.4668\n",
      "Epoch 81/100\n",
      "4/4 [==============================] - 0s 12ms/step - loss: 2734.5967 - val_loss: 6198.6436\n",
      "Epoch 82/100\n",
      "4/4 [==============================] - 0s 11ms/step - loss: 2706.4004 - val_loss: 6314.2764\n",
      "Epoch 83/100\n",
      "4/4 [==============================] - 0s 12ms/step - loss: 2666.3123 - val_loss: 6334.9683\n",
      "Epoch 84/100\n",
      "4/4 [==============================] - 0s 11ms/step - loss: 2634.3970 - val_loss: 6660.4263\n",
      "Epoch 85/100\n",
      "4/4 [==============================] - 0s 11ms/step - loss: 2612.7039 - val_loss: 6160.8452\n",
      "Epoch 86/100\n",
      "4/4 [==============================] - 0s 11ms/step - loss: 2537.7458 - val_loss: 6074.3794\n",
      "Epoch 87/100\n",
      "4/4 [==============================] - 0s 12ms/step - loss: 2491.0178 - val_loss: 6184.2036\n",
      "Epoch 88/100\n",
      "4/4 [==============================] - 0s 12ms/step - loss: 2526.0879 - val_loss: 6276.3999\n",
      "Epoch 89/100\n",
      "4/4 [==============================] - 0s 11ms/step - loss: 2532.1294 - val_loss: 6757.5884\n",
      "Epoch 90/100\n",
      "4/4 [==============================] - 0s 10ms/step - loss: 2460.1677 - val_loss: 5885.2632\n",
      "Epoch 91/100\n",
      "4/4 [==============================] - 0s 12ms/step - loss: 2472.0955 - val_loss: 5718.8745\n",
      "Epoch 92/100\n",
      "4/4 [==============================] - 0s 10ms/step - loss: 2378.8516 - val_loss: 6121.1206\n",
      "Epoch 93/100\n",
      "4/4 [==============================] - 0s 9ms/step - loss: 2391.5430 - val_loss: 6245.7271\n",
      "Epoch 94/100\n",
      "4/4 [==============================] - 0s 10ms/step - loss: 2283.4609 - val_loss: 6057.2783\n",
      "Epoch 95/100\n",
      "4/4 [==============================] - 0s 10ms/step - loss: 2319.7832 - val_loss: 6201.7446\n",
      "Epoch 96/100\n",
      "4/4 [==============================] - 0s 10ms/step - loss: 2286.8110 - val_loss: 6724.7695\n",
      "Epoch 97/100\n",
      "4/4 [==============================] - 0s 9ms/step - loss: 2405.6750 - val_loss: 6102.4570\n",
      "Epoch 98/100\n",
      "4/4 [==============================] - 0s 13ms/step - loss: 2175.0630 - val_loss: 5855.2314\n",
      "Epoch 99/100\n",
      "4/4 [==============================] - 0s 10ms/step - loss: 2252.0344 - val_loss: 5998.5488\n",
      "Epoch 100/100\n",
      "4/4 [==============================] - 0s 10ms/step - loss: 2094.2334 - val_loss: 6181.5933\n"
     ]
    },
    {
     "data": {
      "text/plain": [
       "<tensorflow.python.keras.callbacks.History at 0x7f1d08a2f290>"
      ]
     },
     "execution_count": 16,
     "metadata": {
      "tags": []
     },
     "output_type": "execute_result"
    }
   ],
   "source": [
    "modelo.fit(\n",
    "    x=hist_treino, \n",
    "    y=parametros_treino, \n",
    "    epochs=100, \n",
    "    verbose=1,\n",
    "    validation_data = (hist_teste, parametros_teste))"
   ]
  },
  {
   "cell_type": "markdown",
   "metadata": {
    "id": "hR9wQifwKjlN"
   },
   "source": [
    "##### 5.1.2. Gráfico do treinamento"
   ]
  },
  {
   "cell_type": "code",
   "execution_count": 17,
   "metadata": {
    "colab": {
     "base_uri": "https://localhost:8080/"
    },
    "id": "sxbuYZbCK7HZ",
    "outputId": "8cb5dcdf-08e7-45c9-85ba-146b36cf940c"
   },
   "outputs": [
    {
     "data": {
      "text/plain": [
       "(100, 2)"
      ]
     },
     "execution_count": 17,
     "metadata": {
      "tags": []
     },
     "output_type": "execute_result"
    }
   ],
   "source": [
    "loss_df = pd.DataFrame(modelo.history.history)\n",
    "loss_df.shape"
   ]
  },
  {
   "cell_type": "code",
   "execution_count": 18,
   "metadata": {
    "colab": {
     "base_uri": "https://localhost:8080/",
     "height": 283
    },
    "id": "80Nela6TLI83",
    "outputId": "ed1b3c9c-b232-461f-ca85-42f1e45d77af"
   },
   "outputs": [
    {
     "data": {
      "text/plain": [
       "<matplotlib.axes._subplots.AxesSubplot at 0x7f1d062ec050>"
      ]
     },
     "execution_count": 18,
     "metadata": {
      "tags": []
     },
     "output_type": "execute_result"
    },
    {
     "data": {
      "image/png": "[encoded data removed]",
      "text/plain": [
       "<Figure size 432x288 with 1 Axes>"
      ]
     },
     "metadata": {
      "needs_background": "light",
      "tags": []
     },
     "output_type": "display_data"
    }
   ],
   "source": [
    "loss_df.plot()"
   ]
  },
  {
   "cell_type": "markdown",
   "metadata": {
    "id": "wF_LcHY2LpE8"
   },
   "source": [
    "##### 5.1.3. Avaliação do treinamento"
   ]
  },
  {
   "cell_type": "code",
   "execution_count": 19,
   "metadata": {
    "id": "o0qd847whrBz"
   },
   "outputs": [],
   "source": [
    "from sklearn.metrics import mean_squared_error"
   ]
  },
  {
   "cell_type": "code",
   "execution_count": null,
   "metadata": {
    "colab": {
     "base_uri": "https://localhost:8080/"
    },
    "id": "udErkxmrvUoG",
    "outputId": "1511eb62-157d-4a76-9cd8-1b00a07f540a"
   },
   "outputs": [
    {
     "data": {
      "text/plain": [
       "array([[0.  , 0.  , 0.  , ..., 0.26, 0.41, 0.  ],\n",
       "       [0.  , 0.  , 0.  , ..., 0.02, 0.03, 0.  ],\n",
       "       [0.  , 0.  , 0.  , ..., 0.03, 0.04, 0.  ],\n",
       "       ...,\n",
       "       [0.  , 0.  , 0.  , ..., 0.03, 0.01, 0.  ],\n",
       "       [0.  , 0.  , 0.  , ..., 0.19, 0.48, 0.  ],\n",
       "       [0.  , 0.  , 0.  , ..., 0.46, 0.08, 0.  ]])"
      ]
     },
     "execution_count": 30,
     "metadata": {
      "tags": []
     },
     "output_type": "execute_result"
    }
   ],
   "source": [
    "histogramas_real"
   ]
  },
  {
   "cell_type": "code",
   "execution_count": 20,
   "metadata": {
    "id": "udEzGFo3jX0-"
   },
   "outputs": [],
   "source": [
    "pred_params = modelo.predict(hist_teste)"
   ]
  },
  {
   "cell_type": "code",
   "execution_count": 21,
   "metadata": {
    "colab": {
     "base_uri": "https://localhost:8080/"
    },
    "id": "OX4eVYYyjjny",
    "outputId": "7bfc0609-046c-4c40-97a1-9ac72ffb426f"
   },
   "outputs": [
    {
     "data": {
      "text/plain": [
       "array([[ 8.10511857e-02,  2.21933675e+00,  1.29449415e+00,\n",
       "         3.25923645e+02],\n",
       "       [ 2.77345210e-01,  3.44556570e+00,  2.48333168e+00,\n",
       "         4.74719086e+02],\n",
       "       [ 1.33539177e-02,  7.08628893e-01,  2.42548019e-01,\n",
       "         1.10085320e+02],\n",
       "       [ 3.31131518e-02,  4.69750702e-01,  2.10608721e-01,\n",
       "         6.40541306e+01],\n",
       "       [ 2.87805468e-01,  2.16768026e+00,  1.23347950e+00,\n",
       "         2.92209229e+02],\n",
       "       [ 7.28610680e-02,  2.08469152e+00,  1.44437170e+00,\n",
       "         3.01895294e+02],\n",
       "       [-1.05037671e-02,  2.24877024e+00,  1.76842999e+00,\n",
       "         3.75129883e+02],\n",
       "       [-2.32450604e-01,  1.46400595e+00,  9.42828238e-01,\n",
       "         2.68366058e+02],\n",
       "       [-6.25816286e-02,  1.61584997e+00,  8.64635885e-01,\n",
       "         2.52479004e+02],\n",
       "       [ 1.80795282e-01,  2.72083950e+00,  1.93480361e+00,\n",
       "         4.30870697e+02],\n",
       "       [ 2.07557112e-01,  2.39925718e+00,  1.50485456e+00,\n",
       "         3.56711639e+02],\n",
       "       [ 1.77718714e-01,  1.55064034e+00,  1.03800964e+00,\n",
       "         1.98510910e+02],\n",
       "       [ 1.82827801e-01,  1.61076522e+00,  1.09690583e+00,\n",
       "         2.60568817e+02],\n",
       "       [-4.80187386e-02,  1.75452423e+00,  1.09921086e+00,\n",
       "         2.93923187e+02],\n",
       "       [ 2.40465924e-01,  2.46961904e+00,  1.50119293e+00,\n",
       "         3.23882629e+02],\n",
       "       [ 4.09407355e-02,  1.76459002e+00,  1.16491508e+00,\n",
       "         2.92472351e+02],\n",
       "       [ 2.89688081e-01,  1.58474302e+00,  1.00301254e+00,\n",
       "         1.97463272e+02],\n",
       "       [-3.22415203e-01,  1.06802940e+00,  5.64735472e-01,\n",
       "         2.28148666e+02],\n",
       "       [-8.04654583e-02,  7.45773017e-01,  3.93952936e-01,\n",
       "         1.38411621e+02],\n",
       "       [-6.08252361e-02,  9.30768788e-01,  3.32122594e-01,\n",
       "         1.65446747e+02],\n",
       "       [ 1.06692195e-01,  1.94980788e+00,  1.35590005e+00,\n",
       "         3.33304565e+02],\n",
       "       [ 1.29806101e-01,  1.64711022e+00,  1.24952316e+00,\n",
       "         2.82229340e+02],\n",
       "       [-5.11594191e-02,  1.81325531e+00,  1.06282878e+00,\n",
       "         2.82523956e+02],\n",
       "       [ 1.81561783e-01,  1.85873055e+00,  1.08190227e+00,\n",
       "         2.61835693e+02],\n",
       "       [ 4.09260869e-01,  2.14312983e+00,  1.23160529e+00,\n",
       "         2.91365601e+02],\n",
       "       [-2.41626203e-01,  1.30443096e+00,  7.08901167e-01,\n",
       "         2.45349014e+02],\n",
       "       [ 7.73585081e-01,  3.49761748e+00,  2.66522384e+00,\n",
       "         4.73062408e+02],\n",
       "       [-1.24999117e-02,  1.43458891e+00,  1.01583159e+00,\n",
       "         2.56735779e+02],\n",
       "       [ 5.91460228e-01,  2.45591354e+00,  1.65465832e+00,\n",
       "         2.69494934e+02],\n",
       "       [ 3.01495075e-01,  1.56510592e+00,  9.36970532e-01,\n",
       "         1.82745117e+02],\n",
       "       [ 6.51388884e-01,  4.11682224e+00,  3.02316189e+00,\n",
       "         5.70475037e+02],\n",
       "       [ 2.99520165e-01,  2.18446040e+00,  1.21986878e+00,\n",
       "         2.80831635e+02],\n",
       "       [-5.11594191e-02,  1.81325531e+00,  1.06282878e+00,\n",
       "         2.82523956e+02],\n",
       "       [ 2.77728122e-03,  1.13420725e+00,  6.03360593e-01,\n",
       "         1.85465866e+02],\n",
       "       [-1.73503369e-01,  1.26648045e+00,  6.76746547e-01,\n",
       "         2.25936600e+02],\n",
       "       [ 1.02740772e-01,  2.03000093e+00,  1.36255872e+00,\n",
       "         3.29907318e+02],\n",
       "       [ 8.81430283e-02,  1.46958995e+00,  7.16036558e-01,\n",
       "         1.95548721e+02],\n",
       "       [-3.96272421e-01,  9.18106019e-01,  5.49626827e-01,\n",
       "         2.05694824e+02],\n",
       "       [ 5.37859738e-01,  2.18142748e+00,  1.27681434e+00,\n",
       "         2.36244385e+02],\n",
       "       [ 1.00858882e-01,  2.00773764e+00,  1.33925223e+00,\n",
       "         3.21857147e+02],\n",
       "       [-2.01803967e-01,  7.30025649e-01,  2.68263698e-01,\n",
       "         1.49529572e+02],\n",
       "       [-7.46942386e-02,  7.18831599e-01,  2.78560996e-01,\n",
       "         1.34111954e+02],\n",
       "       [ 5.22079229e-01,  2.87061095e+00,  1.60187685e+00,\n",
       "         3.80655396e+02],\n",
       "       [-8.30503106e-02,  1.47894692e+00,  9.03173327e-01,\n",
       "         2.44005295e+02],\n",
       "       [ 2.77721696e-03,  1.13420653e+00,  6.03365183e-01,\n",
       "         1.85465866e+02]], dtype=float32)"
      ]
     },
     "execution_count": 21,
     "metadata": {
      "tags": []
     },
     "output_type": "execute_result"
    }
   ],
   "source": [
    "pred_params"
   ]
  },
  {
   "cell_type": "code",
   "execution_count": 22,
   "metadata": {
    "colab": {
     "base_uri": "https://localhost:8080/"
    },
    "id": "NOvwc49ZUBxB",
    "outputId": "8134add2-0069-49a6-d915-ff44bf8810f4"
   },
   "outputs": [
    {
     "data": {
      "text/plain": [
       "array([[ 8.0000e-02,  2.2200e+00,  1.2900e+00,  3.2592e+02],\n",
       "       [ 2.8000e-01,  3.4500e+00,  2.4800e+00,  4.7472e+02],\n",
       "       [ 1.0000e-02,  7.1000e-01,  2.4000e-01,  1.1009e+02],\n",
       "       [ 3.0000e-02,  4.7000e-01,  2.1000e-01,  6.4050e+01],\n",
       "       [ 2.9000e-01,  2.1700e+00,  1.2300e+00,  2.9221e+02],\n",
       "       [ 7.0000e-02,  2.0800e+00,  1.4400e+00,  3.0190e+02],\n",
       "       [-1.0000e-02,  2.2500e+00,  1.7700e+00,  3.7513e+02],\n",
       "       [-2.3000e-01,  1.4600e+00,  9.4000e-01,  2.6837e+02],\n",
       "       [-6.0000e-02,  1.6200e+00,  8.6000e-01,  2.5248e+02],\n",
       "       [ 1.8000e-01,  2.7200e+00,  1.9300e+00,  4.3087e+02],\n",
       "       [ 2.1000e-01,  2.4000e+00,  1.5000e+00,  3.5671e+02],\n",
       "       [ 1.8000e-01,  1.5500e+00,  1.0400e+00,  1.9851e+02],\n",
       "       [ 1.8000e-01,  1.6100e+00,  1.1000e+00,  2.6057e+02],\n",
       "       [-5.0000e-02,  1.7500e+00,  1.1000e+00,  2.9392e+02],\n",
       "       [ 2.4000e-01,  2.4700e+00,  1.5000e+00,  3.2388e+02],\n",
       "       [ 4.0000e-02,  1.7600e+00,  1.1600e+00,  2.9247e+02],\n",
       "       [ 2.9000e-01,  1.5800e+00,  1.0000e+00,  1.9746e+02],\n",
       "       [-3.2000e-01,  1.0700e+00,  5.6000e-01,  2.2815e+02],\n",
       "       [-8.0000e-02,  7.5000e-01,  3.9000e-01,  1.3841e+02],\n",
       "       [-6.0000e-02,  9.3000e-01,  3.3000e-01,  1.6545e+02],\n",
       "       [ 1.1000e-01,  1.9500e+00,  1.3600e+00,  3.3330e+02],\n",
       "       [ 1.3000e-01,  1.6500e+00,  1.2500e+00,  2.8223e+02],\n",
       "       [-5.0000e-02,  1.8100e+00,  1.0600e+00,  2.8252e+02],\n",
       "       [ 1.8000e-01,  1.8600e+00,  1.0800e+00,  2.6184e+02],\n",
       "       [ 4.1000e-01,  2.1400e+00,  1.2300e+00,  2.9137e+02],\n",
       "       [-2.4000e-01,  1.3000e+00,  7.1000e-01,  2.4535e+02],\n",
       "       [ 7.7000e-01,  3.5000e+00,  2.6700e+00,  4.7306e+02],\n",
       "       [-1.0000e-02,  1.4300e+00,  1.0200e+00,  2.5674e+02],\n",
       "       [ 5.9000e-01,  2.4600e+00,  1.6500e+00,  2.6949e+02],\n",
       "       [ 3.0000e-01,  1.5700e+00,  9.4000e-01,  1.8275e+02],\n",
       "       [ 6.5000e-01,  4.1200e+00,  3.0200e+00,  5.7048e+02],\n",
       "       [ 3.0000e-01,  2.1800e+00,  1.2200e+00,  2.8083e+02],\n",
       "       [-5.0000e-02,  1.8100e+00,  1.0600e+00,  2.8252e+02],\n",
       "       [ 0.0000e+00,  1.1300e+00,  6.0000e-01,  1.8547e+02],\n",
       "       [-1.7000e-01,  1.2700e+00,  6.8000e-01,  2.2594e+02],\n",
       "       [ 1.0000e-01,  2.0300e+00,  1.3600e+00,  3.2991e+02],\n",
       "       [ 9.0000e-02,  1.4700e+00,  7.2000e-01,  1.9555e+02],\n",
       "       [-4.0000e-01,  9.2000e-01,  5.5000e-01,  2.0569e+02],\n",
       "       [ 5.4000e-01,  2.1800e+00,  1.2800e+00,  2.3624e+02],\n",
       "       [ 1.0000e-01,  2.0100e+00,  1.3400e+00,  3.2186e+02],\n",
       "       [-2.0000e-01,  7.3000e-01,  2.7000e-01,  1.4953e+02],\n",
       "       [-7.0000e-02,  7.2000e-01,  2.8000e-01,  1.3411e+02],\n",
       "       [ 5.2000e-01,  2.8700e+00,  1.6000e+00,  3.8066e+02],\n",
       "       [-8.0000e-02,  1.4800e+00,  9.0000e-01,  2.4401e+02],\n",
       "       [ 0.0000e+00,  1.1300e+00,  6.0000e-01,  1.8547e+02]],\n",
       "      dtype=float32)"
      ]
     },
     "execution_count": 22,
     "metadata": {
      "tags": []
     },
     "output_type": "execute_result"
    }
   ],
   "source": [
    "parametros_pred = np.round(pred_params, 2)\n",
    "parametros_pred"
   ]
  },
  {
   "cell_type": "code",
   "execution_count": 23,
   "metadata": {
    "colab": {
     "base_uri": "https://localhost:8080/",
     "height": 1000
    },
    "id": "mdkDMz6QCvXq",
    "outputId": "16a1db79-5665-4009-a826-cb612b50ec16"
   },
   "outputs": [
    {
     "data": {
      "text/html": [
       "<div>\n",
       "<style scoped>\n",
       "    .dataframe tbody tr th:only-of-type {\n",
       "        vertical-align: middle;\n",
       "    }\n",
       "\n",
       "    .dataframe tbody tr th {\n",
       "        vertical-align: top;\n",
       "    }\n",
       "\n",
       "    .dataframe thead th {\n",
       "        text-align: right;\n",
       "    }\n",
       "</style>\n",
       "<table border=\"1\" class=\"dataframe\">\n",
       "  <thead>\n",
       "    <tr style=\"text-align: right;\">\n",
       "      <th></th>\n",
       "      <th>gammaL_pred</th>\n",
       "      <th>gammaH_pred</th>\n",
       "      <th>c_pred</th>\n",
       "      <th>d0_pred</th>\n",
       "    </tr>\n",
       "  </thead>\n",
       "  <tbody>\n",
       "    <tr>\n",
       "      <th>0</th>\n",
       "      <td>0.08</td>\n",
       "      <td>2.22</td>\n",
       "      <td>1.29</td>\n",
       "      <td>325.920013</td>\n",
       "    </tr>\n",
       "    <tr>\n",
       "      <th>1</th>\n",
       "      <td>0.28</td>\n",
       "      <td>3.45</td>\n",
       "      <td>2.48</td>\n",
       "      <td>474.720001</td>\n",
       "    </tr>\n",
       "    <tr>\n",
       "      <th>2</th>\n",
       "      <td>0.01</td>\n",
       "      <td>0.71</td>\n",
       "      <td>0.24</td>\n",
       "      <td>110.089996</td>\n",
       "    </tr>\n",
       "    <tr>\n",
       "      <th>3</th>\n",
       "      <td>0.03</td>\n",
       "      <td>0.47</td>\n",
       "      <td>0.21</td>\n",
       "      <td>64.050003</td>\n",
       "    </tr>\n",
       "    <tr>\n",
       "      <th>4</th>\n",
       "      <td>0.29</td>\n",
       "      <td>2.17</td>\n",
       "      <td>1.23</td>\n",
       "      <td>292.209991</td>\n",
       "    </tr>\n",
       "    <tr>\n",
       "      <th>5</th>\n",
       "      <td>0.07</td>\n",
       "      <td>2.08</td>\n",
       "      <td>1.44</td>\n",
       "      <td>301.899994</td>\n",
       "    </tr>\n",
       "    <tr>\n",
       "      <th>6</th>\n",
       "      <td>-0.01</td>\n",
       "      <td>2.25</td>\n",
       "      <td>1.77</td>\n",
       "      <td>375.130005</td>\n",
       "    </tr>\n",
       "    <tr>\n",
       "      <th>7</th>\n",
       "      <td>-0.23</td>\n",
       "      <td>1.46</td>\n",
       "      <td>0.94</td>\n",
       "      <td>268.369995</td>\n",
       "    </tr>\n",
       "    <tr>\n",
       "      <th>8</th>\n",
       "      <td>-0.06</td>\n",
       "      <td>1.62</td>\n",
       "      <td>0.86</td>\n",
       "      <td>252.479996</td>\n",
       "    </tr>\n",
       "    <tr>\n",
       "      <th>9</th>\n",
       "      <td>0.18</td>\n",
       "      <td>2.72</td>\n",
       "      <td>1.93</td>\n",
       "      <td>430.869995</td>\n",
       "    </tr>\n",
       "    <tr>\n",
       "      <th>10</th>\n",
       "      <td>0.21</td>\n",
       "      <td>2.40</td>\n",
       "      <td>1.50</td>\n",
       "      <td>356.709991</td>\n",
       "    </tr>\n",
       "    <tr>\n",
       "      <th>11</th>\n",
       "      <td>0.18</td>\n",
       "      <td>1.55</td>\n",
       "      <td>1.04</td>\n",
       "      <td>198.509995</td>\n",
       "    </tr>\n",
       "    <tr>\n",
       "      <th>12</th>\n",
       "      <td>0.18</td>\n",
       "      <td>1.61</td>\n",
       "      <td>1.10</td>\n",
       "      <td>260.570007</td>\n",
       "    </tr>\n",
       "    <tr>\n",
       "      <th>13</th>\n",
       "      <td>-0.05</td>\n",
       "      <td>1.75</td>\n",
       "      <td>1.10</td>\n",
       "      <td>293.920013</td>\n",
       "    </tr>\n",
       "    <tr>\n",
       "      <th>14</th>\n",
       "      <td>0.24</td>\n",
       "      <td>2.47</td>\n",
       "      <td>1.50</td>\n",
       "      <td>323.880005</td>\n",
       "    </tr>\n",
       "    <tr>\n",
       "      <th>15</th>\n",
       "      <td>0.04</td>\n",
       "      <td>1.76</td>\n",
       "      <td>1.16</td>\n",
       "      <td>292.470001</td>\n",
       "    </tr>\n",
       "    <tr>\n",
       "      <th>16</th>\n",
       "      <td>0.29</td>\n",
       "      <td>1.58</td>\n",
       "      <td>1.00</td>\n",
       "      <td>197.460007</td>\n",
       "    </tr>\n",
       "    <tr>\n",
       "      <th>17</th>\n",
       "      <td>-0.32</td>\n",
       "      <td>1.07</td>\n",
       "      <td>0.56</td>\n",
       "      <td>228.149994</td>\n",
       "    </tr>\n",
       "    <tr>\n",
       "      <th>18</th>\n",
       "      <td>-0.08</td>\n",
       "      <td>0.75</td>\n",
       "      <td>0.39</td>\n",
       "      <td>138.410004</td>\n",
       "    </tr>\n",
       "    <tr>\n",
       "      <th>19</th>\n",
       "      <td>-0.06</td>\n",
       "      <td>0.93</td>\n",
       "      <td>0.33</td>\n",
       "      <td>165.449997</td>\n",
       "    </tr>\n",
       "    <tr>\n",
       "      <th>20</th>\n",
       "      <td>0.11</td>\n",
       "      <td>1.95</td>\n",
       "      <td>1.36</td>\n",
       "      <td>333.299988</td>\n",
       "    </tr>\n",
       "    <tr>\n",
       "      <th>21</th>\n",
       "      <td>0.13</td>\n",
       "      <td>1.65</td>\n",
       "      <td>1.25</td>\n",
       "      <td>282.230011</td>\n",
       "    </tr>\n",
       "    <tr>\n",
       "      <th>22</th>\n",
       "      <td>-0.05</td>\n",
       "      <td>1.81</td>\n",
       "      <td>1.06</td>\n",
       "      <td>282.519989</td>\n",
       "    </tr>\n",
       "    <tr>\n",
       "      <th>23</th>\n",
       "      <td>0.18</td>\n",
       "      <td>1.86</td>\n",
       "      <td>1.08</td>\n",
       "      <td>261.839996</td>\n",
       "    </tr>\n",
       "    <tr>\n",
       "      <th>24</th>\n",
       "      <td>0.41</td>\n",
       "      <td>2.14</td>\n",
       "      <td>1.23</td>\n",
       "      <td>291.369995</td>\n",
       "    </tr>\n",
       "    <tr>\n",
       "      <th>25</th>\n",
       "      <td>-0.24</td>\n",
       "      <td>1.30</td>\n",
       "      <td>0.71</td>\n",
       "      <td>245.350006</td>\n",
       "    </tr>\n",
       "    <tr>\n",
       "      <th>26</th>\n",
       "      <td>0.77</td>\n",
       "      <td>3.50</td>\n",
       "      <td>2.67</td>\n",
       "      <td>473.059998</td>\n",
       "    </tr>\n",
       "    <tr>\n",
       "      <th>27</th>\n",
       "      <td>-0.01</td>\n",
       "      <td>1.43</td>\n",
       "      <td>1.02</td>\n",
       "      <td>256.739990</td>\n",
       "    </tr>\n",
       "    <tr>\n",
       "      <th>28</th>\n",
       "      <td>0.59</td>\n",
       "      <td>2.46</td>\n",
       "      <td>1.65</td>\n",
       "      <td>269.489990</td>\n",
       "    </tr>\n",
       "    <tr>\n",
       "      <th>29</th>\n",
       "      <td>0.30</td>\n",
       "      <td>1.57</td>\n",
       "      <td>0.94</td>\n",
       "      <td>182.750000</td>\n",
       "    </tr>\n",
       "    <tr>\n",
       "      <th>30</th>\n",
       "      <td>0.65</td>\n",
       "      <td>4.12</td>\n",
       "      <td>3.02</td>\n",
       "      <td>570.479980</td>\n",
       "    </tr>\n",
       "    <tr>\n",
       "      <th>31</th>\n",
       "      <td>0.30</td>\n",
       "      <td>2.18</td>\n",
       "      <td>1.22</td>\n",
       "      <td>280.829987</td>\n",
       "    </tr>\n",
       "    <tr>\n",
       "      <th>32</th>\n",
       "      <td>-0.05</td>\n",
       "      <td>1.81</td>\n",
       "      <td>1.06</td>\n",
       "      <td>282.519989</td>\n",
       "    </tr>\n",
       "    <tr>\n",
       "      <th>33</th>\n",
       "      <td>0.00</td>\n",
       "      <td>1.13</td>\n",
       "      <td>0.60</td>\n",
       "      <td>185.470001</td>\n",
       "    </tr>\n",
       "    <tr>\n",
       "      <th>34</th>\n",
       "      <td>-0.17</td>\n",
       "      <td>1.27</td>\n",
       "      <td>0.68</td>\n",
       "      <td>225.940002</td>\n",
       "    </tr>\n",
       "    <tr>\n",
       "      <th>35</th>\n",
       "      <td>0.10</td>\n",
       "      <td>2.03</td>\n",
       "      <td>1.36</td>\n",
       "      <td>329.910004</td>\n",
       "    </tr>\n",
       "    <tr>\n",
       "      <th>36</th>\n",
       "      <td>0.09</td>\n",
       "      <td>1.47</td>\n",
       "      <td>0.72</td>\n",
       "      <td>195.550003</td>\n",
       "    </tr>\n",
       "    <tr>\n",
       "      <th>37</th>\n",
       "      <td>-0.40</td>\n",
       "      <td>0.92</td>\n",
       "      <td>0.55</td>\n",
       "      <td>205.690002</td>\n",
       "    </tr>\n",
       "    <tr>\n",
       "      <th>38</th>\n",
       "      <td>0.54</td>\n",
       "      <td>2.18</td>\n",
       "      <td>1.28</td>\n",
       "      <td>236.240005</td>\n",
       "    </tr>\n",
       "    <tr>\n",
       "      <th>39</th>\n",
       "      <td>0.10</td>\n",
       "      <td>2.01</td>\n",
       "      <td>1.34</td>\n",
       "      <td>321.859985</td>\n",
       "    </tr>\n",
       "    <tr>\n",
       "      <th>40</th>\n",
       "      <td>-0.20</td>\n",
       "      <td>0.73</td>\n",
       "      <td>0.27</td>\n",
       "      <td>149.529999</td>\n",
       "    </tr>\n",
       "    <tr>\n",
       "      <th>41</th>\n",
       "      <td>-0.07</td>\n",
       "      <td>0.72</td>\n",
       "      <td>0.28</td>\n",
       "      <td>134.110001</td>\n",
       "    </tr>\n",
       "    <tr>\n",
       "      <th>42</th>\n",
       "      <td>0.52</td>\n",
       "      <td>2.87</td>\n",
       "      <td>1.60</td>\n",
       "      <td>380.660004</td>\n",
       "    </tr>\n",
       "    <tr>\n",
       "      <th>43</th>\n",
       "      <td>-0.08</td>\n",
       "      <td>1.48</td>\n",
       "      <td>0.90</td>\n",
       "      <td>244.009995</td>\n",
       "    </tr>\n",
       "    <tr>\n",
       "      <th>44</th>\n",
       "      <td>0.00</td>\n",
       "      <td>1.13</td>\n",
       "      <td>0.60</td>\n",
       "      <td>185.470001</td>\n",
       "    </tr>\n",
       "  </tbody>\n",
       "</table>\n",
       "</div>"
      ],
      "text/plain": [
       "    gammaL_pred  gammaH_pred  c_pred     d0_pred\n",
       "0          0.08         2.22    1.29  325.920013\n",
       "1          0.28         3.45    2.48  474.720001\n",
       "2          0.01         0.71    0.24  110.089996\n",
       "3          0.03         0.47    0.21   64.050003\n",
       "4          0.29         2.17    1.23  292.209991\n",
       "5          0.07         2.08    1.44  301.899994\n",
       "6         -0.01         2.25    1.77  375.130005\n",
       "7         -0.23         1.46    0.94  268.369995\n",
       "8         -0.06         1.62    0.86  252.479996\n",
       "9          0.18         2.72    1.93  430.869995\n",
       "10         0.21         2.40    1.50  356.709991\n",
       "11         0.18         1.55    1.04  198.509995\n",
       "12         0.18         1.61    1.10  260.570007\n",
       "13        -0.05         1.75    1.10  293.920013\n",
       "14         0.24         2.47    1.50  323.880005\n",
       "15         0.04         1.76    1.16  292.470001\n",
       "16         0.29         1.58    1.00  197.460007\n",
       "17        -0.32         1.07    0.56  228.149994\n",
       "18        -0.08         0.75    0.39  138.410004\n",
       "19        -0.06         0.93    0.33  165.449997\n",
       "20         0.11         1.95    1.36  333.299988\n",
       "21         0.13         1.65    1.25  282.230011\n",
       "22        -0.05         1.81    1.06  282.519989\n",
       "23         0.18         1.86    1.08  261.839996\n",
       "24         0.41         2.14    1.23  291.369995\n",
       "25        -0.24         1.30    0.71  245.350006\n",
       "26         0.77         3.50    2.67  473.059998\n",
       "27        -0.01         1.43    1.02  256.739990\n",
       "28         0.59         2.46    1.65  269.489990\n",
       "29         0.30         1.57    0.94  182.750000\n",
       "30         0.65         4.12    3.02  570.479980\n",
       "31         0.30         2.18    1.22  280.829987\n",
       "32        -0.05         1.81    1.06  282.519989\n",
       "33         0.00         1.13    0.60  185.470001\n",
       "34        -0.17         1.27    0.68  225.940002\n",
       "35         0.10         2.03    1.36  329.910004\n",
       "36         0.09         1.47    0.72  195.550003\n",
       "37        -0.40         0.92    0.55  205.690002\n",
       "38         0.54         2.18    1.28  236.240005\n",
       "39         0.10         2.01    1.34  321.859985\n",
       "40        -0.20         0.73    0.27  149.529999\n",
       "41        -0.07         0.72    0.28  134.110001\n",
       "42         0.52         2.87    1.60  380.660004\n",
       "43        -0.08         1.48    0.90  244.009995\n",
       "44         0.00         1.13    0.60  185.470001"
      ]
     },
     "execution_count": 23,
     "metadata": {
      "tags": []
     },
     "output_type": "execute_result"
    }
   ],
   "source": [
    "df_parametros = pd.DataFrame(parametros_pred, columns=['gammaL_pred', 'gammaH_pred', 'c_pred', 'd0_pred'])\n",
    "df_parametros"
   ]
  },
  {
   "cell_type": "markdown",
   "metadata": {
    "id": "OTWChY7vA1S9"
   },
   "source": [
    "Estão sendo gerados **números negativos** em $\\gamma_{L}$.  Vamos corrigir substituindo pelo valor mínimo de $\\gamma_{L}$(0,01):"
   ]
  },
  {
   "cell_type": "code",
   "execution_count": 24,
   "metadata": {
    "id": "K1qoRDdZHpBs"
   },
   "outputs": [],
   "source": [
    "df_parametros.loc[df_parametros['gammaL_pred'] <=0, 'gammaL_pred'] = 0.01"
   ]
  },
  {
   "cell_type": "code",
   "execution_count": 25,
   "metadata": {
    "colab": {
     "base_uri": "https://localhost:8080/",
     "height": 204
    },
    "id": "omzcqHPVJ-r-",
    "outputId": "be512d98-fb9d-4670-f4b4-4c59df6be938"
   },
   "outputs": [
    {
     "data": {
      "text/html": [
       "<div>\n",
       "<style scoped>\n",
       "    .dataframe tbody tr th:only-of-type {\n",
       "        vertical-align: middle;\n",
       "    }\n",
       "\n",
       "    .dataframe tbody tr th {\n",
       "        vertical-align: top;\n",
       "    }\n",
       "\n",
       "    .dataframe thead th {\n",
       "        text-align: right;\n",
       "    }\n",
       "</style>\n",
       "<table border=\"1\" class=\"dataframe\">\n",
       "  <thead>\n",
       "    <tr style=\"text-align: right;\">\n",
       "      <th></th>\n",
       "      <th>gammaL_pred</th>\n",
       "      <th>gammaH_pred</th>\n",
       "      <th>c_pred</th>\n",
       "      <th>d0_pred</th>\n",
       "    </tr>\n",
       "  </thead>\n",
       "  <tbody>\n",
       "    <tr>\n",
       "      <th>0</th>\n",
       "      <td>0.08</td>\n",
       "      <td>2.22</td>\n",
       "      <td>1.29</td>\n",
       "      <td>326.0</td>\n",
       "    </tr>\n",
       "    <tr>\n",
       "      <th>1</th>\n",
       "      <td>0.28</td>\n",
       "      <td>3.45</td>\n",
       "      <td>2.48</td>\n",
       "      <td>475.0</td>\n",
       "    </tr>\n",
       "    <tr>\n",
       "      <th>2</th>\n",
       "      <td>0.01</td>\n",
       "      <td>0.71</td>\n",
       "      <td>0.24</td>\n",
       "      <td>110.0</td>\n",
       "    </tr>\n",
       "    <tr>\n",
       "      <th>3</th>\n",
       "      <td>0.03</td>\n",
       "      <td>0.47</td>\n",
       "      <td>0.21</td>\n",
       "      <td>64.0</td>\n",
       "    </tr>\n",
       "    <tr>\n",
       "      <th>4</th>\n",
       "      <td>0.29</td>\n",
       "      <td>2.17</td>\n",
       "      <td>1.23</td>\n",
       "      <td>292.0</td>\n",
       "    </tr>\n",
       "  </tbody>\n",
       "</table>\n",
       "</div>"
      ],
      "text/plain": [
       "   gammaL_pred  gammaH_pred  c_pred  d0_pred\n",
       "0         0.08         2.22    1.29    326.0\n",
       "1         0.28         3.45    2.48    475.0\n",
       "2         0.01         0.71    0.24    110.0\n",
       "3         0.03         0.47    0.21     64.0\n",
       "4         0.29         2.17    1.23    292.0"
      ]
     },
     "execution_count": 25,
     "metadata": {
      "tags": []
     },
     "output_type": "execute_result"
    }
   ],
   "source": [
    "df_parametros['d0_pred'] = np.round(df_parametros.d0_pred, 0)\n",
    "df_parametros.head()"
   ]
  },
  {
   "cell_type": "code",
   "execution_count": 26,
   "metadata": {
    "colab": {
     "base_uri": "https://localhost:8080/"
    },
    "id": "XMr_6b0CMg0h",
    "outputId": "2fa37a99-e0d9-4b91-ea4a-6c31a039bdf0"
   },
   "outputs": [
    {
     "data": {
      "text/plain": [
       "array([[8.00e-02, 2.22e+00, 1.29e+00, 3.26e+02],\n",
       "       [2.80e-01, 3.45e+00, 2.48e+00, 4.75e+02],\n",
       "       [1.00e-02, 7.10e-01, 2.40e-01, 1.10e+02],\n",
       "       [3.00e-02, 4.70e-01, 2.10e-01, 6.40e+01],\n",
       "       [2.90e-01, 2.17e+00, 1.23e+00, 2.92e+02],\n",
       "       [7.00e-02, 2.08e+00, 1.44e+00, 3.02e+02],\n",
       "       [1.00e-02, 2.25e+00, 1.77e+00, 3.75e+02],\n",
       "       [1.00e-02, 1.46e+00, 9.40e-01, 2.68e+02],\n",
       "       [1.00e-02, 1.62e+00, 8.60e-01, 2.52e+02],\n",
       "       [1.80e-01, 2.72e+00, 1.93e+00, 4.31e+02],\n",
       "       [2.10e-01, 2.40e+00, 1.50e+00, 3.57e+02],\n",
       "       [1.80e-01, 1.55e+00, 1.04e+00, 1.99e+02],\n",
       "       [1.80e-01, 1.61e+00, 1.10e+00, 2.61e+02],\n",
       "       [1.00e-02, 1.75e+00, 1.10e+00, 2.94e+02],\n",
       "       [2.40e-01, 2.47e+00, 1.50e+00, 3.24e+02],\n",
       "       [4.00e-02, 1.76e+00, 1.16e+00, 2.92e+02],\n",
       "       [2.90e-01, 1.58e+00, 1.00e+00, 1.97e+02],\n",
       "       [1.00e-02, 1.07e+00, 5.60e-01, 2.28e+02],\n",
       "       [1.00e-02, 7.50e-01, 3.90e-01, 1.38e+02],\n",
       "       [1.00e-02, 9.30e-01, 3.30e-01, 1.65e+02],\n",
       "       [1.10e-01, 1.95e+00, 1.36e+00, 3.33e+02],\n",
       "       [1.30e-01, 1.65e+00, 1.25e+00, 2.82e+02],\n",
       "       [1.00e-02, 1.81e+00, 1.06e+00, 2.83e+02],\n",
       "       [1.80e-01, 1.86e+00, 1.08e+00, 2.62e+02],\n",
       "       [4.10e-01, 2.14e+00, 1.23e+00, 2.91e+02],\n",
       "       [1.00e-02, 1.30e+00, 7.10e-01, 2.45e+02],\n",
       "       [7.70e-01, 3.50e+00, 2.67e+00, 4.73e+02],\n",
       "       [1.00e-02, 1.43e+00, 1.02e+00, 2.57e+02],\n",
       "       [5.90e-01, 2.46e+00, 1.65e+00, 2.69e+02],\n",
       "       [3.00e-01, 1.57e+00, 9.40e-01, 1.83e+02],\n",
       "       [6.50e-01, 4.12e+00, 3.02e+00, 5.70e+02],\n",
       "       [3.00e-01, 2.18e+00, 1.22e+00, 2.81e+02],\n",
       "       [1.00e-02, 1.81e+00, 1.06e+00, 2.83e+02],\n",
       "       [1.00e-02, 1.13e+00, 6.00e-01, 1.85e+02],\n",
       "       [1.00e-02, 1.27e+00, 6.80e-01, 2.26e+02],\n",
       "       [1.00e-01, 2.03e+00, 1.36e+00, 3.30e+02],\n",
       "       [9.00e-02, 1.47e+00, 7.20e-01, 1.96e+02],\n",
       "       [1.00e-02, 9.20e-01, 5.50e-01, 2.06e+02],\n",
       "       [5.40e-01, 2.18e+00, 1.28e+00, 2.36e+02],\n",
       "       [1.00e-01, 2.01e+00, 1.34e+00, 3.22e+02],\n",
       "       [1.00e-02, 7.30e-01, 2.70e-01, 1.50e+02],\n",
       "       [1.00e-02, 7.20e-01, 2.80e-01, 1.34e+02],\n",
       "       [5.20e-01, 2.87e+00, 1.60e+00, 3.81e+02],\n",
       "       [1.00e-02, 1.48e+00, 9.00e-01, 2.44e+02],\n",
       "       [1.00e-02, 1.13e+00, 6.00e-01, 1.85e+02]], dtype=float32)"
      ]
     },
     "execution_count": 26,
     "metadata": {
      "tags": []
     },
     "output_type": "execute_result"
    }
   ],
   "source": [
    "parametros_pred = df_parametros.values\n",
    "parametros_pred"
   ]
  },
  {
   "cell_type": "code",
   "execution_count": 27,
   "metadata": {
    "colab": {
     "base_uri": "https://localhost:8080/"
    },
    "id": "h9N_BdUkeX1L",
    "outputId": "35002eff-e6b7-4a43-f1fc-1ee4f7cd9990"
   },
   "outputs": [
    {
     "data": {
      "text/plain": [
       "6184.281169442508"
      ]
     },
     "execution_count": 27,
     "metadata": {
      "tags": []
     },
     "output_type": "execute_result"
    }
   ],
   "source": [
    "mean_squared_error(parametros_teste, parametros_pred)"
   ]
  },
  {
   "cell_type": "markdown",
   "metadata": {
    "id": "WTL144rPwR2E"
   },
   "source": [
    "##### 5.1.4. Ajustes no modelo"
   ]
  },
  {
   "cell_type": "markdown",
   "metadata": {
    "id": "nOPhH_Zawb3G"
   },
   "source": [
    "Vamos ajustar o modelo utilizando `EarlyStopping` e `Dropout`:"
   ]
  },
  {
   "cell_type": "code",
   "execution_count": 28,
   "metadata": {
    "id": "z-PDmLBTxALE"
   },
   "outputs": [],
   "source": [
    "from tensorflow.keras.callbacks import EarlyStopping\n",
    "from tensorflow.keras.layers import Dropout"
   ]
  },
  {
   "cell_type": "code",
   "execution_count": 29,
   "metadata": {
    "id": "3JcOmnyGyLfM"
   },
   "outputs": [],
   "source": [
    "modelo = Sequential()\n",
    "modelo.add(Dense(units=256, activation='relu'))\n",
    "\n",
    "modelo.add(Dense(units=173, activation='relu'))\n",
    "modelo.add(Dropout(0.5))\n",
    "\n",
    "modelo.add(Dense(units=173, activation='relu'))\n",
    "modelo.add(Dropout(0.5))\n",
    "\n",
    "modelo.add(Dense(units=4))\n",
    "\n",
    "modelo.compile(optimizer='adam', loss='mse')"
   ]
  },
  {
   "cell_type": "code",
   "execution_count": 30,
   "metadata": {
    "id": "s8_G8hwkyTF4"
   },
   "outputs": [],
   "source": [
    "early_stop = EarlyStopping(monitor='val_loss', patience=20, mode='min', verbose=1)"
   ]
  },
  {
   "cell_type": "code",
   "execution_count": 31,
   "metadata": {
    "colab": {
     "base_uri": "https://localhost:8080/"
    },
    "id": "CXQulumdyl1M",
    "outputId": "13ceb711-6a28-4d49-f5f5-a13a6a989c9d"
   },
   "outputs": [
    {
     "name": "stdout",
     "output_type": "stream",
     "text": [
      "Epoch 1/1000\n",
      "4/4 [==============================] - 1s 43ms/step - loss: 21872.3613 - val_loss: 20176.1230\n",
      "Epoch 2/1000\n",
      "4/4 [==============================] - 0s 10ms/step - loss: 21510.9336 - val_loss: 19557.0527\n",
      "Epoch 3/1000\n",
      "4/4 [==============================] - 0s 11ms/step - loss: 20707.4980 - val_loss: 18256.5918\n",
      "Epoch 4/1000\n",
      "4/4 [==============================] - 0s 10ms/step - loss: 18975.0762 - val_loss: 15876.8037\n",
      "Epoch 5/1000\n",
      "4/4 [==============================] - 0s 11ms/step - loss: 16372.6885 - val_loss: 12195.8848\n",
      "Epoch 6/1000\n",
      "4/4 [==============================] - 0s 12ms/step - loss: 12325.2188 - val_loss: 7908.0327\n",
      "Epoch 7/1000\n",
      "4/4 [==============================] - 0s 11ms/step - loss: 8861.1553 - val_loss: 5706.7100\n",
      "Epoch 8/1000\n",
      "4/4 [==============================] - 0s 10ms/step - loss: 7847.3037 - val_loss: 6425.4194\n",
      "Epoch 9/1000\n",
      "4/4 [==============================] - 0s 9ms/step - loss: 8506.8848 - val_loss: 6012.5098\n",
      "Epoch 10/1000\n",
      "4/4 [==============================] - 0s 10ms/step - loss: 8020.6060 - val_loss: 5559.2070\n",
      "Epoch 11/1000\n",
      "4/4 [==============================] - 0s 11ms/step - loss: 6628.5371 - val_loss: 5839.8042\n",
      "Epoch 12/1000\n",
      "4/4 [==============================] - 0s 11ms/step - loss: 7184.0293 - val_loss: 5853.2520\n",
      "Epoch 13/1000\n",
      "4/4 [==============================] - 0s 10ms/step - loss: 6725.2290 - val_loss: 5652.6992\n",
      "Epoch 14/1000\n",
      "4/4 [==============================] - 0s 10ms/step - loss: 6705.6304 - val_loss: 5617.6050\n",
      "Epoch 15/1000\n",
      "4/4 [==============================] - 0s 10ms/step - loss: 6457.9175 - val_loss: 5698.9688\n",
      "Epoch 16/1000\n",
      "4/4 [==============================] - 0s 11ms/step - loss: 6446.7383 - val_loss: 5771.5913\n",
      "Epoch 17/1000\n",
      "4/4 [==============================] - 0s 9ms/step - loss: 6331.3662 - val_loss: 5831.4824\n",
      "Epoch 18/1000\n",
      "4/4 [==============================] - 0s 9ms/step - loss: 5819.3726 - val_loss: 5898.4326\n",
      "Epoch 19/1000\n",
      "4/4 [==============================] - 0s 10ms/step - loss: 6444.4761 - val_loss: 6010.2632\n",
      "Epoch 20/1000\n",
      "4/4 [==============================] - 0s 10ms/step - loss: 5894.2998 - val_loss: 6139.0952\n",
      "Epoch 21/1000\n",
      "4/4 [==============================] - 0s 12ms/step - loss: 5476.7075 - val_loss: 6208.0723\n",
      "Epoch 22/1000\n",
      "4/4 [==============================] - 0s 10ms/step - loss: 5414.6421 - val_loss: 6228.7710\n",
      "Epoch 23/1000\n",
      "4/4 [==============================] - 0s 11ms/step - loss: 6323.4326 - val_loss: 6219.8047\n",
      "Epoch 24/1000\n",
      "4/4 [==============================] - 0s 10ms/step - loss: 5844.2529 - val_loss: 6243.5117\n",
      "Epoch 25/1000\n",
      "4/4 [==============================] - 0s 12ms/step - loss: 5864.8091 - val_loss: 6253.2471\n",
      "Epoch 26/1000\n",
      "4/4 [==============================] - 0s 13ms/step - loss: 5488.2456 - val_loss: 6359.5625\n",
      "Epoch 27/1000\n",
      "4/4 [==============================] - 0s 11ms/step - loss: 5692.7988 - val_loss: 6469.2134\n",
      "Epoch 28/1000\n",
      "4/4 [==============================] - 0s 10ms/step - loss: 5949.7607 - val_loss: 6408.6460\n",
      "Epoch 29/1000\n",
      "4/4 [==============================] - 0s 11ms/step - loss: 6043.4531 - val_loss: 6243.7627\n",
      "Epoch 30/1000\n",
      "4/4 [==============================] - 0s 9ms/step - loss: 6100.3794 - val_loss: 6248.7725\n",
      "Epoch 00030: early stopping\n"
     ]
    },
    {
     "data": {
      "text/plain": [
       "<tensorflow.python.keras.callbacks.History at 0x7f1d0480ab50>"
      ]
     },
     "execution_count": 31,
     "metadata": {
      "tags": []
     },
     "output_type": "execute_result"
    }
   ],
   "source": [
    "modelo.fit(\n",
    "    x=hist_treino, \n",
    "    y=parametros_treino, \n",
    "    epochs=1000, \n",
    "    verbose=1,\n",
    "    validation_data = (hist_teste, parametros_teste),\n",
    "    callbacks=[early_stop])"
   ]
  },
  {
   "cell_type": "code",
   "execution_count": 32,
   "metadata": {
    "colab": {
     "base_uri": "https://localhost:8080/",
     "height": 284
    },
    "id": "pg7e71YFy_QK",
    "outputId": "5a955065-2162-4354-b358-3774159a1f94"
   },
   "outputs": [
    {
     "data": {
      "text/plain": [
       "<matplotlib.axes._subplots.AxesSubplot at 0x7f1d02eab5d0>"
      ]
     },
     "execution_count": 32,
     "metadata": {
      "tags": []
     },
     "output_type": "execute_result"
    },
    {
     "data": {
      "image/png": "[encoded data removed]",
      "text/plain": [
       "<Figure size 432x288 with 1 Axes>"
      ]
     },
     "metadata": {
      "needs_background": "light",
      "tags": []
     },
     "output_type": "display_data"
    }
   ],
   "source": [
    "losses = pd.DataFrame(modelo.history.history)\n",
    "losses.plot()"
   ]
  },
  {
   "cell_type": "code",
   "execution_count": 33,
   "metadata": {
    "id": "D5jFklPHNvBH"
   },
   "outputs": [],
   "source": [
    "pred_params = modelo.predict(hist_teste)"
   ]
  },
  {
   "cell_type": "code",
   "execution_count": 36,
   "metadata": {
    "colab": {
     "base_uri": "https://localhost:8080/"
    },
    "id": "QP35_2kcOkP1",
    "outputId": "abb8d119-38fa-4935-d32e-129abdbeef8b"
   },
   "outputs": [
    {
     "data": {
      "text/plain": [
       "array([[-5.5000e-01,  2.4100e+00,  3.6600e+00,  2.2007e+02],\n",
       "       [-4.7000e-01,  1.9300e+00,  3.3800e+00,  2.0016e+02],\n",
       "       [-3.9000e-01,  1.6400e+00,  2.7500e+00,  1.6030e+02],\n",
       "       [-4.1000e-01,  1.1100e+00,  1.8800e+00,  1.1029e+02],\n",
       "       [-4.8000e-01,  2.2600e+00,  3.4900e+00,  2.0717e+02],\n",
       "       [-6.4000e-01,  1.8700e+00,  3.0700e+00,  1.8741e+02],\n",
       "       [-1.1100e+00,  2.7400e+00,  4.8800e+00,  2.9077e+02],\n",
       "       [-7.5000e-01,  3.1400e+00,  5.4900e+00,  3.0802e+02],\n",
       "       [-6.7000e-01,  2.4900e+00,  3.9100e+00,  2.3553e+02],\n",
       "       [-1.4800e+00,  3.8900e+00,  6.3600e+00,  3.8082e+02],\n",
       "       [-6.5000e-01,  2.7700e+00,  4.3300e+00,  2.5679e+02],\n",
       "       [-6.0000e-02,  8.5000e-01,  1.4300e+00,  7.9430e+01],\n",
       "       [-1.2000e+00,  2.8500e+00,  4.9800e+00,  2.9802e+02],\n",
       "       [-9.5000e-01,  2.9900e+00,  4.7500e+00,  2.9018e+02],\n",
       "       [-4.4000e-01,  2.0700e+00,  3.1700e+00,  1.8970e+02],\n",
       "       [-7.3000e-01,  2.2600e+00,  3.6400e+00,  2.2277e+02],\n",
       "       [-4.0000e-02,  1.0700e+00,  1.8500e+00,  1.0441e+02],\n",
       "       [-8.6000e-01,  2.8400e+00,  4.5900e+00,  2.7820e+02],\n",
       "       [-6.3000e-01,  1.8800e+00,  2.8900e+00,  1.8487e+02],\n",
       "       [-2.8000e-01,  2.1600e+00,  3.6700e+00,  2.0608e+02],\n",
       "       [-1.3400e+00,  3.2200e+00,  5.6100e+00,  3.3427e+02],\n",
       "       [-1.1200e+00,  2.5900e+00,  4.5000e+00,  2.7159e+02],\n",
       "       [-6.7000e-01,  2.3900e+00,  3.7300e+00,  2.2987e+02],\n",
       "       [-1.2000e-01,  1.8200e+00,  3.0200e+00,  1.7463e+02],\n",
       "       [-5.7000e-01,  2.3300e+00,  3.7800e+00,  2.2385e+02],\n",
       "       [-3.5000e-01,  2.3900e+00,  4.1000e+00,  2.2647e+02],\n",
       "       [-1.2800e+00,  2.8000e+00,  4.8900e+00,  2.8710e+02],\n",
       "       [-1.0800e+00,  2.4300e+00,  4.3100e+00,  2.6216e+02],\n",
       "       [ 1.6000e-01,  8.8000e-01,  1.4300e+00,  8.0930e+01],\n",
       "       [-9.0000e-02,  8.2000e-01,  1.1600e+00,  7.3020e+01],\n",
       "       [-1.1900e+00,  2.8000e+00,  5.0000e+00,  2.9266e+02],\n",
       "       [-3.8000e-01,  2.1800e+00,  3.4900e+00,  2.0309e+02],\n",
       "       [-6.7000e-01,  2.3900e+00,  3.7300e+00,  2.2987e+02],\n",
       "       [-1.2000e-01,  1.7500e+00,  2.9600e+00,  1.6475e+02],\n",
       "       [-6.9000e-01,  2.5000e+00,  4.0600e+00,  2.4526e+02],\n",
       "       [-1.1000e+00,  2.9500e+00,  4.7900e+00,  2.9513e+02],\n",
       "       [-2.2000e-01,  1.6400e+00,  2.3200e+00,  1.4412e+02],\n",
       "       [-8.6000e-01,  2.4300e+00,  3.9900e+00,  2.4343e+02],\n",
       "       [-1.1000e-01,  1.2500e+00,  1.8800e+00,  1.1176e+02],\n",
       "       [-1.0000e+00,  2.8200e+00,  4.5100e+00,  2.7498e+02],\n",
       "       [-3.3000e-01,  1.9900e+00,  3.4500e+00,  1.9357e+02],\n",
       "       [-3.7000e-01,  1.9900e+00,  3.0000e+00,  1.8285e+02],\n",
       "       [-6.8000e-01,  2.7900e+00,  4.4500e+00,  2.6415e+02],\n",
       "       [-6.2000e-01,  2.0800e+00,  3.3200e+00,  2.0357e+02],\n",
       "       [-1.2000e-01,  1.7500e+00,  2.9600e+00,  1.6475e+02]],\n",
       "      dtype=float32)"
      ]
     },
     "execution_count": 36,
     "metadata": {
      "tags": []
     },
     "output_type": "execute_result"
    }
   ],
   "source": [
    "parametros_pred = np.round(pred_params, 2)\n",
    "parametros_pred"
   ]
  },
  {
   "cell_type": "code",
   "execution_count": 35,
   "metadata": {
    "colab": {
     "base_uri": "https://localhost:8080/"
    },
    "id": "pLKwKRwmOtSP",
    "outputId": "8f12554f-ad19-4063-d1f1-1376962d97be"
   },
   "outputs": [
    {
     "data": {
      "text/plain": [
       "6248.772399496549"
      ]
     },
     "execution_count": 35,
     "metadata": {
      "tags": []
     },
     "output_type": "execute_result"
    }
   ],
   "source": [
    "mean_squared_error(parametros_teste, pred_params)"
   ]
  },
  {
   "cell_type": "markdown",
   "metadata": {
    "id": "YGiWUKPeSApz"
   },
   "source": [
    "### 5.2. $\\gamma_{L}$"
   ]
  },
  {
   "cell_type": "markdown",
   "metadata": {
    "id": "iQ7RRAPESS10"
   },
   "source": [
    "##### 5.2.1. Criação do modelo "
   ]
  },
  {
   "cell_type": "code",
   "execution_count": 37,
   "metadata": {
    "id": "pSZg1-pFTNcA"
   },
   "outputs": [],
   "source": [
    "modelo = Sequential()\n",
    "modelo.add(Dense(units=256, activation='relu'))\n",
    "modelo.add(Dense(units=173, activation='relu'))\n",
    "modelo.add(Dense(units=173, activation='relu'))\n",
    "modelo.add(Dense(units=1))\n",
    "\n",
    "modelo.compile(optimizer='adam', loss='mse')"
   ]
  },
  {
   "cell_type": "markdown",
   "metadata": {
    "id": "hF7oWuq4T-mC"
   },
   "source": [
    "##### 5.2.2.  Treinamento"
   ]
  },
  {
   "cell_type": "code",
   "execution_count": 38,
   "metadata": {
    "id": "dGGuEe93UCqa"
   },
   "outputs": [],
   "source": [
    "hist_treino, hist_teste, gammaL_treino, gammaL_teste = train_test_split(histogramas, gammaL, test_size=0.3, random_state=1618)"
   ]
  },
  {
   "cell_type": "code",
   "execution_count": 39,
   "metadata": {
    "colab": {
     "base_uri": "https://localhost:8080/"
    },
    "id": "I0KLtn7kUReL",
    "outputId": "18ce20a4-bcfa-4334-8878-2584002c382d"
   },
   "outputs": [
    {
     "data": {
      "text/plain": [
       "<tensorflow.python.keras.callbacks.History at 0x7f1d01e93d50>"
      ]
     },
     "execution_count": 39,
     "metadata": {
      "tags": []
     },
     "output_type": "execute_result"
    }
   ],
   "source": [
    "modelo.fit(\n",
    "    x=hist_treino,\n",
    "    y=gammaL_treino,\n",
    "    epochs=100,\n",
    "    verbose=0,\n",
    "    validation_data=(hist_teste, gammaL_teste)\n",
    ")"
   ]
  },
  {
   "cell_type": "markdown",
   "metadata": {
    "id": "_nmU3HrxVZJM"
   },
   "source": [
    "##### 5.2.3.  Gráfico do treinamento"
   ]
  },
  {
   "cell_type": "code",
   "execution_count": 40,
   "metadata": {
    "colab": {
     "base_uri": "https://localhost:8080/",
     "height": 282
    },
    "id": "R95xyjPjVdek",
    "outputId": "2f364974-18db-4760-e128-70b290e19ebb"
   },
   "outputs": [
    {
     "data": {
      "text/plain": [
       "<matplotlib.axes._subplots.AxesSubplot at 0x7f1d013443d0>"
      ]
     },
     "execution_count": 40,
     "metadata": {
      "tags": []
     },
     "output_type": "execute_result"
    },
    {
     "data": {
      "image/png": "[encoded data removed]",
      "text/plain": [
       "<Figure size 432x288 with 1 Axes>"
      ]
     },
     "metadata": {
      "needs_background": "light",
      "tags": []
     },
     "output_type": "display_data"
    }
   ],
   "source": [
    "losses_gammaL = pd.DataFrame(modelo.history.history)\n",
    "losses_gammaL.plot()"
   ]
  },
  {
   "cell_type": "markdown",
   "metadata": {
    "id": "oD313uhbWKD-"
   },
   "source": [
    "\n",
    "\n",
    "Vê-se claramente a diferença entre o **conjunto de treinamento** e o **conjunto de teste**.  Vamos tentar resolver este problema com as seguintes estratégias:"
   ]
  },
  {
   "cell_type": "markdown",
   "metadata": {
    "id": "CRQdZGvDWU1K"
   },
   "source": [
    "a). Redução da capacidade da rede retirando 1 camada escondida do modelo:"
   ]
  },
  {
   "cell_type": "code",
   "execution_count": null,
   "metadata": {
    "id": "Q6ELPUCXWf_U"
   },
   "outputs": [],
   "source": [
    "modelo = Sequential()\n",
    "modelo.add(Dense(units=256, activation='relu'))\n",
    "modelo.add(Dense(units=173, activation='relu'))\n",
    "#modelo.add(Dense(units=25, activation='relu'))\n",
    "modelo.add(Dense(units=1))\n",
    "\n",
    "modelo.compile(optimizer='adam', loss='mse')"
   ]
  },
  {
   "cell_type": "code",
   "execution_count": 41,
   "metadata": {
    "id": "NHENu3wLWrjb"
   },
   "outputs": [],
   "source": [
    "hist_treino, hist_teste, gammaL_treino, gammaL_teste = train_test_split(histogramas, gammaL, test_size=0.3, random_state=1618)"
   ]
  },
  {
   "cell_type": "code",
   "execution_count": 42,
   "metadata": {
    "colab": {
     "base_uri": "https://localhost:8080/"
    },
    "id": "FJKQIfibWsdR",
    "outputId": "fdb8ff5d-1d06-4105-f5b1-083fd95ade89"
   },
   "outputs": [
    {
     "data": {
      "text/plain": [
       "<tensorflow.python.keras.callbacks.History at 0x7f1d00296190>"
      ]
     },
     "execution_count": 42,
     "metadata": {
      "tags": []
     },
     "output_type": "execute_result"
    }
   ],
   "source": [
    "modelo.fit(\n",
    "    x=hist_treino,\n",
    "    y=gammaL_treino,\n",
    "    epochs=100,\n",
    "    verbose=0,\n",
    "    validation_data=(hist_teste, gammaL_teste)\n",
    ")"
   ]
  },
  {
   "cell_type": "code",
   "execution_count": 43,
   "metadata": {
    "colab": {
     "base_uri": "https://localhost:8080/",
     "height": 282
    },
    "id": "dh8dqnTlWz9G",
    "outputId": "10519408-17ac-4502-a11f-eaa66adf0c77"
   },
   "outputs": [
    {
     "data": {
      "text/plain": [
       "<matplotlib.axes._subplots.AxesSubplot at 0x7f1cffa6a2d0>"
      ]
     },
     "execution_count": 43,
     "metadata": {
      "tags": []
     },
     "output_type": "execute_result"
    },
    {
     "data": {
      "image/png": "[encoded data removed]",
      "text/plain": [
       "<Figure size 432x288 with 1 Axes>"
      ]
     },
     "metadata": {
      "needs_background": "light",
      "tags": []
     },
     "output_type": "display_data"
    }
   ],
   "source": [
    "losses_gammaL = pd.DataFrame(modelo.history.history)\n",
    "losses_gammaL.plot()"
   ]
  },
  {
   "cell_type": "markdown",
   "metadata": {
    "id": "Jc9Q5HSsYlYF"
   },
   "source": [
    "b)  Usando `Dropout` e `EarlyStopping`:"
   ]
  },
  {
   "cell_type": "code",
   "execution_count": 58,
   "metadata": {
    "id": "eI2QaJYpYtrO"
   },
   "outputs": [],
   "source": [
    "modelo = Sequential()\n",
    "modelo.add(Dense(units=256, activation='relu'))\n",
    "#modelo.add(Dropout(0.5))\n",
    "\n",
    "modelo.add(Dense(units=173, activation='relu'))\n",
    "modelo.add(Dropout(0.5))\n",
    "\n",
    "modelo.add(Dense(units=173, activation='relu'))\n",
    "modelo.add(Dropout(0.7))\n",
    "\n",
    "modelo.add(Dense(units=1))\n",
    "\n",
    "modelo.compile(optimizer='adam', loss='mse')"
   ]
  },
  {
   "cell_type": "code",
   "execution_count": 59,
   "metadata": {
    "id": "tTsTnt_oiNwI"
   },
   "outputs": [],
   "source": [
    "early_stop_gammaL = EarlyStopping(monitor='val_loss', mode='min', patience=30)"
   ]
  },
  {
   "cell_type": "code",
   "execution_count": 60,
   "metadata": {
    "id": "6GfRCN7dZoiA"
   },
   "outputs": [],
   "source": [
    "hist_treino, hist_teste, gammaL_treino, gammaL_teste = train_test_split(histogramas, gammaL, test_size=0.3, random_state=1618)"
   ]
  },
  {
   "cell_type": "code",
   "execution_count": 61,
   "metadata": {
    "colab": {
     "base_uri": "https://localhost:8080/"
    },
    "id": "Ey2NXYQgZogb",
    "outputId": "25ad1bb2-0567-4917-9778-bbed3aa0ed58"
   },
   "outputs": [
    {
     "data": {
      "text/plain": [
       "<tensorflow.python.keras.callbacks.History at 0x7f1cfffae650>"
      ]
     },
     "execution_count": 61,
     "metadata": {
      "tags": []
     },
     "output_type": "execute_result"
    }
   ],
   "source": [
    "modelo.fit(\n",
    "    x=hist_treino,\n",
    "    y=gammaL_treino,\n",
    "    epochs=200,\n",
    "    verbose=0,\n",
    "    validation_data=(hist_teste, gammaL_teste),\n",
    "    callbacks=[early_stop_gammaL]\n",
    ")"
   ]
  },
  {
   "cell_type": "code",
   "execution_count": 62,
   "metadata": {
    "colab": {
     "base_uri": "https://localhost:8080/",
     "height": 286
    },
    "id": "7MhcfFCGZuVE",
    "outputId": "ffc84352-bcc1-4abf-c8f6-8cab784089b7"
   },
   "outputs": [
    {
     "data": {
      "text/plain": [
       "<matplotlib.axes._subplots.AxesSubplot at 0x7f1d00221090>"
      ]
     },
     "execution_count": 62,
     "metadata": {
      "tags": []
     },
     "output_type": "execute_result"
    },
    {
     "data": {
      "image/png": "[encoded data removed]",
      "text/plain": [
       "<Figure size 432x288 with 1 Axes>"
      ]
     },
     "metadata": {
      "needs_background": "light",
      "tags": []
     },
     "output_type": "display_data"
    }
   ],
   "source": [
    "losses_gammaL = pd.DataFrame(modelo.history.history)\n",
    "losses_gammaL.plot()"
   ]
  },
  {
   "cell_type": "markdown",
   "metadata": {
    "id": "IXA0X0rDi-aB"
   },
   "source": [
    "##### 5.2.4.  Avaliação do Treinamento"
   ]
  },
  {
   "cell_type": "code",
   "execution_count": 63,
   "metadata": {
    "colab": {
     "base_uri": "https://localhost:8080/"
    },
    "id": "Tdz9WXHDjBjj",
    "outputId": "270a1c51-b1d7-402e-c1ec-46d177a5d7f8"
   },
   "outputs": [
    {
     "data": {
      "text/plain": [
       "(45, 1)"
      ]
     },
     "execution_count": 63,
     "metadata": {
      "tags": []
     },
     "output_type": "execute_result"
    }
   ],
   "source": [
    "pred_gammaL = modelo.predict(hist_teste)\n",
    "pred_gammaL.shape"
   ]
  },
  {
   "cell_type": "code",
   "execution_count": 64,
   "metadata": {
    "colab": {
     "base_uri": "https://localhost:8080/"
    },
    "id": "HkEo4yhhjlZ-",
    "outputId": "3f47c546-9324-4671-f089-c2e7ad2b08b2"
   },
   "outputs": [
    {
     "data": {
      "text/plain": [
       "array([0.1 , 0.31, 0.24, 0.11, 0.11, 0.13, 0.06, 0.09, 0.21, 0.11, 0.42,\n",
       "       0.07, 0.13, 0.13, 0.12, 0.08, 0.1 , 0.13, 0.01, 0.07, 0.09, 0.1 ,\n",
       "       0.03, 0.05, 0.19, 0.04, 0.31, 0.07, 0.27, 0.23, 0.06, 0.2 , 0.07,\n",
       "       0.04, 0.03, 0.88, 0.15, 0.02, 0.04, 0.71, 0.46, 0.02, 0.21, 0.12,\n",
       "       0.04])"
      ]
     },
     "execution_count": 64,
     "metadata": {
      "tags": []
     },
     "output_type": "execute_result"
    }
   ],
   "source": [
    "gammaL_teste"
   ]
  },
  {
   "cell_type": "code",
   "execution_count": 65,
   "metadata": {
    "colab": {
     "base_uri": "https://localhost:8080/"
    },
    "id": "g1TZmmTvMxUE",
    "outputId": "42534df4-c54d-4274-92ef-7d0a43a9379a"
   },
   "outputs": [
    {
     "data": {
      "text/plain": [
       "array([0.1 , 0.11, 0.09, 0.11, 0.12, 0.11, 0.08, 0.09, 0.13, 0.12, 0.11,\n",
       "       0.09, 0.11, 0.11, 0.1 , 0.08, 0.11, 0.09, 0.12, 0.08, 0.1 , 0.11,\n",
       "       0.09, 0.07, 0.1 , 0.09, 0.16, 0.09, 0.07, 0.14, 0.11, 0.1 , 0.09,\n",
       "       0.08, 0.11, 0.12, 0.09, 0.08, 0.12, 0.11, 0.08, 0.1 , 0.1 , 0.11,\n",
       "       0.08], dtype=float32)"
      ]
     },
     "execution_count": 65,
     "metadata": {
      "tags": []
     },
     "output_type": "execute_result"
    }
   ],
   "source": [
    "pred_gammaL = np.round(pred_gammaL, 2).reshape(45,)\n",
    "pred_gammaL"
   ]
  },
  {
   "cell_type": "code",
   "execution_count": 66,
   "metadata": {
    "colab": {
     "base_uri": "https://localhost:8080/"
    },
    "id": "NEGLk7OrQACo",
    "outputId": "865bca8b-22cf-4294-cddc-c0ed8faedf6e"
   },
   "outputs": [
    {
     "data": {
      "text/plain": [
       "0.031200000117619833"
      ]
     },
     "execution_count": 66,
     "metadata": {
      "tags": []
     },
     "output_type": "execute_result"
    }
   ],
   "source": [
    "mean_squared_error(gammaL_teste, pred_gammaL)"
   ]
  },
  {
   "cell_type": "markdown",
   "metadata": {
    "id": "17q4mlnOnKL2"
   },
   "source": [
    "### 5.3. $\\gamma_{H}$"
   ]
  },
  {
   "cell_type": "markdown",
   "metadata": {
    "id": "x8OYEG6JrxM5"
   },
   "source": [
    "##### 5.3.1. Criação do modelo"
   ]
  },
  {
   "cell_type": "code",
   "execution_count": 115,
   "metadata": {
    "id": "n6kOAnkNsCjp"
   },
   "outputs": [],
   "source": [
    "modelo_gammaH = Sequential()\n",
    "modelo_gammaH.add(Dense(units=256, activation='relu'))\n",
    "\n",
    "modelo_gammaH.add(Dense(units=173, activation='relu'))\n",
    "modelo_gammaH.add(Dropout(0.5))\n",
    "\n",
    "modelo_gammaH.add(Dense(units=173, activation='relu'))\n",
    "modelo_gammaH.add(Dropout(0.2))\n",
    "\n",
    "modelo_gammaH.add(Dense(units=1))\n",
    "\n",
    "modelo_gammaH.compile(optimizer='adam', loss='mse')"
   ]
  },
  {
   "cell_type": "code",
   "execution_count": 116,
   "metadata": {
    "id": "nU7wrvCntKlI"
   },
   "outputs": [],
   "source": [
    "early_stop_gammaH = EarlyStopping(monitor='val_loss', mode='min', patience=30)"
   ]
  },
  {
   "cell_type": "code",
   "execution_count": 117,
   "metadata": {
    "id": "IaPkHhdDtMw0"
   },
   "outputs": [],
   "source": [
    "hist_treino, hist_teste, gammaH_treino, gammaH_teste = train_test_split(histogramas, gammaH, test_size=0.3, random_state=1618)"
   ]
  },
  {
   "cell_type": "markdown",
   "metadata": {
    "id": "6IaLft_itX4U"
   },
   "source": [
    "##### 5.3.2. Treinamento"
   ]
  },
  {
   "cell_type": "code",
   "execution_count": 118,
   "metadata": {
    "colab": {
     "base_uri": "https://localhost:8080/"
    },
    "id": "QxnBznP2tjG2",
    "outputId": "b0b6ad73-b328-46d4-bf9a-5ee4da694877"
   },
   "outputs": [
    {
     "data": {
      "text/plain": [
       "<tensorflow.python.keras.callbacks.History at 0x7f1cef826d50>"
      ]
     },
     "execution_count": 118,
     "metadata": {
      "tags": []
     },
     "output_type": "execute_result"
    }
   ],
   "source": [
    "modelo_gammaH.fit(\n",
    "    x=hist_treino,\n",
    "    y=gammaH_treino,\n",
    "    epochs=300,\n",
    "    verbose=0,\n",
    "    validation_data=(hist_teste, gammaH_teste),\n",
    "    #callbacks=[early_stop_gammaH]\n",
    ")"
   ]
  },
  {
   "cell_type": "markdown",
   "metadata": {
    "id": "knYVEUtst6Eh"
   },
   "source": [
    "##### 5.3.3. Gráfico do Treinamento"
   ]
  },
  {
   "cell_type": "code",
   "execution_count": 119,
   "metadata": {
    "colab": {
     "base_uri": "https://localhost:8080/",
     "height": 282
    },
    "id": "iRYQnwF_t_W_",
    "outputId": "b0835bc0-1c7e-4b0f-9a55-a09cbbd15879"
   },
   "outputs": [
    {
     "data": {
      "text/plain": [
       "<matplotlib.axes._subplots.AxesSubplot at 0x7f1cef80e3d0>"
      ]
     },
     "execution_count": 119,
     "metadata": {
      "tags": []
     },
     "output_type": "execute_result"
    },
    {
     "data": {
      "image/png": "[encoded data removed]",
      "text/plain": [
       "<Figure size 432x288 with 1 Axes>"
      ]
     },
     "metadata": {
      "needs_background": "light",
      "tags": []
     },
     "output_type": "display_data"
    }
   ],
   "source": [
    "losses_gammaH = pd.DataFrame(modelo_gammaH.history.history)\n",
    "losses_gammaH.plot()"
   ]
  },
  {
   "cell_type": "markdown",
   "metadata": {
    "id": "7D5wrpjguMvS"
   },
   "source": [
    "##### 5.3.4.  Avaliação do Treinamento"
   ]
  },
  {
   "cell_type": "code",
   "execution_count": 120,
   "metadata": {
    "colab": {
     "base_uri": "https://localhost:8080/"
    },
    "id": "AKjCmXClusex",
    "outputId": "6abf06ea-62c2-41e1-f6c9-4ae19ff9d548"
   },
   "outputs": [
    {
     "name": "stdout",
     "output_type": "stream",
     "text": [
      "WARNING:tensorflow:6 out of the last 17 calls to <function Model.make_predict_function.<locals>.predict_function at 0x7f1ceee629e0> triggered tf.function retracing. Tracing is expensive and the excessive number of tracings could be due to (1) creating @tf.function repeatedly in a loop, (2) passing tensors with different shapes, (3) passing Python objects instead of tensors. For (1), please define your @tf.function outside of the loop. For (2), @tf.function has experimental_relax_shapes=True option that relaxes argument shapes that can avoid unnecessary retracing. For (3), please refer to https://www.tensorflow.org/guide/function#controlling_retracing and https://www.tensorflow.org/api_docs/python/tf/function for  more details.\n"
     ]
    },
    {
     "data": {
      "text/plain": [
       "(45,)"
      ]
     },
     "execution_count": 120,
     "metadata": {
      "tags": []
     },
     "output_type": "execute_result"
    }
   ],
   "source": [
    "pred_gammaH = modelo_gammaH.predict(hist_teste)\n",
    "pred_gammaH = pred_gammaH.reshape(45,)\n",
    "pred_gammaH.shape"
   ]
  },
  {
   "cell_type": "code",
   "execution_count": 121,
   "metadata": {
    "colab": {
     "base_uri": "https://localhost:8080/"
    },
    "id": "LrD56aZKvHHs",
    "outputId": "aa8aa1da-c5b9-45a5-e33e-188cf576cd4a"
   },
   "outputs": [
    {
     "data": {
      "text/plain": [
       "(45,)"
      ]
     },
     "execution_count": 121,
     "metadata": {
      "tags": []
     },
     "output_type": "execute_result"
    }
   ],
   "source": [
    "gammaH_teste.shape"
   ]
  },
  {
   "cell_type": "code",
   "execution_count": 123,
   "metadata": {
    "colab": {
     "base_uri": "https://localhost:8080/"
    },
    "id": "oDrTN4vBvNE3",
    "outputId": "af1e8164-b21b-41c4-8b76-96a2d0cfed6b"
   },
   "outputs": [
    {
     "data": {
      "text/plain": [
       "0.33389843732494734"
      ]
     },
     "execution_count": 123,
     "metadata": {
      "tags": []
     },
     "output_type": "execute_result"
    }
   ],
   "source": [
    "mean_squared_error(gammaH_teste, pred_gammaH)"
   ]
  }
 ],
 "metadata": {
  "colab": {
   "name": "Analise Homomorphic RX.ipynb",
   "provenance": [],
   "toc_visible": true
  },
  "kernelspec": {
   "display_name": "Python 3",
   "language": "python",
   "name": "python3"
  },
  "language_info": {
   "codemirror_mode": {
    "name": "ipython",
    "version": 3
   },
   "file_extension": ".py",
   "mimetype": "text/x-python",
   "name": "python",
   "nbconvert_exporter": "python",
   "pygments_lexer": "ipython3",
   "version": "3.7.4"
  }
 },
 "nbformat": 4,
 "nbformat_minor": 1
}
